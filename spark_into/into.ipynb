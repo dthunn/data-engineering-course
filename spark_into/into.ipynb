{
 "cells": [
  {
   "cell_type": "code",
   "id": "initial_id",
   "metadata": {
    "collapsed": true,
    "ExecuteTime": {
     "end_time": "2025-08-01T23:35:04.990973Z",
     "start_time": "2025-08-01T23:34:58.928107Z"
    }
   },
   "source": [
    "from pyspark.sql import SparkSession\n",
    "\n",
    "spark = SparkSession.builder \\\n",
    "    .appName(\"First Spark application\") \\\n",
    "    .getOrCreate()\n"
   ],
   "outputs": [
    {
     "name": "stderr",
     "output_type": "stream",
     "text": [
      "WARNING: Using incubator modules: jdk.incubator.vector\n",
      "Using Spark's default log4j profile: org/apache/spark/log4j2-defaults.properties\n",
      "25/08/01 17:35:00 WARN Utils: Your hostname, Dylans-MacBook-Pro.local, resolves to a loopback address: 127.0.0.1; using 10.20.42.250 instead (on interface en0)\n",
      "25/08/01 17:35:00 WARN Utils: Set SPARK_LOCAL_IP if you need to bind to another address\n",
      "Using Spark's default log4j profile: org/apache/spark/log4j2-defaults.properties\n",
      "Setting default log level to \"WARN\".\n",
      "To adjust logging level use sc.setLogLevel(newLevel). For SparkR, use setLogLevel(newLevel).\n",
      "25/08/01 17:35:01 WARN NativeCodeLoader: Unable to load native-hadoop library for your platform... using builtin-java classes where applicable\n"
     ]
    }
   ],
   "execution_count": 1
  },
  {
   "metadata": {
    "ExecuteTime": {
     "end_time": "2025-08-01T23:35:06.181094Z",
     "start_time": "2025-08-01T23:35:05.004436Z"
    }
   },
   "cell_type": "code",
   "source": [
    "data = [\n",
    "    {\"userId\": 1, \"paymentAmount\": 100.0, \"date\": \"2025-01-01\"},\n",
    "    {\"userId\": 2, \"paymentAmount\": 150.5, \"date\": \"2025-01-02\"},\n",
    "    {\"userId\": 3, \"paymentAmount\": 200.75, \"date\": \"2025-01-03\"},\n",
    "    {\"userId\": 2, \"paymentAmount\": 50.25, \"date\": \"2025-01-04\"},\n",
    "    {\"userId\": 1, \"paymentAmount\": 80.0, \"date\": \"2025-01-05\"}\n",
    "]\n",
    "\n",
    "df = spark.createDataFrame(data)"
   ],
   "id": "bba169172ba40ccc",
   "outputs": [],
   "execution_count": 2
  },
  {
   "metadata": {
    "ExecuteTime": {
     "end_time": "2025-08-01T23:44:17.761311Z",
     "start_time": "2025-08-01T23:44:16.799397Z"
    }
   },
   "cell_type": "code",
   "source": "df.show()",
   "id": "dc27a451378f16f4",
   "outputs": [
    {
     "name": "stdout",
     "output_type": "stream",
     "text": [
      "+----------+-------------+------+\n",
      "|      date|paymentAmount|userId|\n",
      "+----------+-------------+------+\n",
      "|2025-01-01|        100.0|     1|\n",
      "|2025-01-02|        150.5|     2|\n",
      "|2025-01-03|       200.75|     3|\n",
      "|2025-01-04|        50.25|     2|\n",
      "|2025-01-05|         80.0|     1|\n",
      "+----------+-------------+------+\n",
      "\n"
     ]
    }
   ],
   "execution_count": 8
  },
  {
   "metadata": {
    "ExecuteTime": {
     "end_time": "2025-08-01T23:44:24.668457Z",
     "start_time": "2025-08-01T23:44:23.657806Z"
    }
   },
   "cell_type": "code",
   "source": "df.count()",
   "id": "e2f453b1b844e737",
   "outputs": [
    {
     "data": {
      "text/plain": [
       "5"
      ]
     },
     "execution_count": 9,
     "metadata": {},
     "output_type": "execute_result"
    }
   ],
   "execution_count": 9
  },
  {
   "metadata": {
    "ExecuteTime": {
     "end_time": "2025-08-01T23:46:01.934918Z",
     "start_time": "2025-08-01T23:46:00.918099Z"
    }
   },
   "cell_type": "code",
   "source": [
    "data = data_values = [\n",
    "    (1, 100.0, \"2025-01-01\"),\n",
    "    (2, 150.5, \"2025-01-02\"),\n",
    "    (3, 200.75, \"2025-01-03\"),\n",
    "    (2, 50.25, \"2025-01-04\"),\n",
    "    (1, 80.0, \"2025-01-05\")\n",
    "]\n",
    "\n",
    "df = spark.createDataFrame(data, [\"userId\", \"amount\", \"date\"])\n",
    "df.show(3)"
   ],
   "id": "50a9018dbcdbf599",
   "outputs": [
    {
     "name": "stdout",
     "output_type": "stream",
     "text": [
      "+------+------+----------+\n",
      "|userId|amount|      date|\n",
      "+------+------+----------+\n",
      "|     1| 100.0|2025-01-01|\n",
      "|     2| 150.5|2025-01-02|\n",
      "|     3|200.75|2025-01-03|\n",
      "+------+------+----------+\n",
      "only showing top 3 rows\n"
     ]
    }
   ],
   "execution_count": 10
  },
  {
   "metadata": {},
   "cell_type": "code",
   "outputs": [],
   "execution_count": null,
   "source": "",
   "id": "9b2f22cad5401736"
  }
 ],
 "metadata": {
  "kernelspec": {
   "display_name": "Python 3",
   "language": "python",
   "name": "python3"
  },
  "language_info": {
   "codemirror_mode": {
    "name": "ipython",
    "version": 2
   },
   "file_extension": ".py",
   "mimetype": "text/x-python",
   "name": "python",
   "nbconvert_exporter": "python",
   "pygments_lexer": "ipython2",
   "version": "2.7.6"
  }
 },
 "nbformat": 4,
 "nbformat_minor": 5
}
