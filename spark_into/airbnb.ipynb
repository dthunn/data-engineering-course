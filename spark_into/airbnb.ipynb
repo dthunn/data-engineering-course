{
 "cells": [
  {
   "cell_type": "code",
   "id": "initial_id",
   "metadata": {
    "collapsed": true,
    "ExecuteTime": {
     "end_time": "2025-08-02T18:29:39.794085Z",
     "start_time": "2025-08-02T18:29:33.160520Z"
    }
   },
   "source": [
    "from pyspark.sql import SparkSession\n",
    "\n",
    "\n",
    "spark = SparkSession.builder \\\n",
    "    .appName(\"Read Inside Airbnb data\") \\\n",
    "    .getOrCreate()"
   ],
   "outputs": [
    {
     "name": "stderr",
     "output_type": "stream",
     "text": [
      "WARNING: Using incubator modules: jdk.incubator.vector\n",
      "Using Spark's default log4j profile: org/apache/spark/log4j2-defaults.properties\n",
      "25/08/02 12:29:35 WARN Utils: Your hostname, Dylans-MacBook-Pro.local, resolves to a loopback address: 127.0.0.1; using 10.20.42.250 instead (on interface en0)\n",
      "25/08/02 12:29:35 WARN Utils: Set SPARK_LOCAL_IP if you need to bind to another address\n",
      "Using Spark's default log4j profile: org/apache/spark/log4j2-defaults.properties\n",
      "Setting default log level to \"WARN\".\n",
      "To adjust logging level use sc.setLogLevel(newLevel). For SparkR, use setLogLevel(newLevel).\n",
      "25/08/02 12:29:36 WARN NativeCodeLoader: Unable to load native-hadoop library for your platform... using builtin-java classes where applicable\n"
     ]
    }
   ],
   "execution_count": 1
  },
  {
   "metadata": {
    "ExecuteTime": {
     "end_time": "2025-08-02T18:32:54.727080Z",
     "start_time": "2025-08-02T18:32:49.870615Z"
    }
   },
   "cell_type": "code",
   "source": [
    "listings = spark.read.csv(\"data/listings.csv.gz\",\n",
    "    header=True,\n",
    "    inferSchema=True,\n",
    "    sep=\",\",\n",
    "    quote='\"',\n",
    "    escape='\"',\n",
    "    multiLine=True,\n",
    "    mode=\"PERMISSIVE\"\n",
    ")"
   ],
   "id": "adf16e1d08a43a9d",
   "outputs": [
    {
     "name": "stderr",
     "output_type": "stream",
     "text": [
      "                                                                                \r"
     ]
    }
   ],
   "execution_count": 3
  },
  {
   "metadata": {
    "ExecuteTime": {
     "end_time": "2025-08-02T18:33:52.737103Z",
     "start_time": "2025-08-02T18:33:52.160757Z"
    }
   },
   "cell_type": "code",
   "source": "listings.show(20)",
   "id": "b540deec8a29205f",
   "outputs": [
    {
     "name": "stdout",
     "output_type": "stream",
     "text": [
      "+------+--------------------+--------------+------------+---------------+--------------------+--------------------+---------------------+--------------------+-------+--------------------+------------+----------+--------------------+--------------------+------------------+------------------+--------------------+-----------------+--------------------+--------------------+--------------------+-------------------+-------------------------+--------------------+--------------------+----------------------+--------------------+----------------------+----------------------------+------------------+--------------------+--------------------+---------------+------------+---------+----------------+--------+----+--------------------+-------+--------------+--------------+----------------------+----------------------+----------------------+----------------------+----------------------+----------------------+----------------+----------------+---------------+---------------+---------------+----------------+---------------------+-----------------+---------------------+----------------------+------------+-----------+--------------------+----------------------+-------------------------+---------------------+---------------------------+----------------------+-------------------+-------+----------------+------------------------------+-------------------------------------------+--------------------------------------------+-------------------------------------------+-----------------+\n",
      "|    id|         listing_url|     scrape_id|last_scraped|         source|                name|         description|neighborhood_overview|         picture_url|host_id|            host_url|   host_name|host_since|       host_location|          host_about|host_response_time|host_response_rate|host_acceptance_rate|host_is_superhost|  host_thumbnail_url|    host_picture_url|  host_neighbourhood|host_listings_count|host_total_listings_count|  host_verifications|host_has_profile_pic|host_identity_verified|       neighbourhood|neighbourhood_cleansed|neighbourhood_group_cleansed|          latitude|           longitude|       property_type|      room_type|accommodates|bathrooms|  bathrooms_text|bedrooms|beds|           amenities|  price|minimum_nights|maximum_nights|minimum_minimum_nights|maximum_minimum_nights|minimum_maximum_nights|maximum_maximum_nights|minimum_nights_avg_ntm|maximum_nights_avg_ntm|calendar_updated|has_availability|availability_30|availability_60|availability_90|availability_365|calendar_last_scraped|number_of_reviews|number_of_reviews_ltm|number_of_reviews_l30d|first_review|last_review|review_scores_rating|review_scores_accuracy|review_scores_cleanliness|review_scores_checkin|review_scores_communication|review_scores_location|review_scores_value|license|instant_bookable|calculated_host_listings_count|calculated_host_listings_count_entire_homes|calculated_host_listings_count_private_rooms|calculated_host_listings_count_shared_rooms|reviews_per_month|\n",
      "+------+--------------------+--------------+------------+---------------+--------------------+--------------------+---------------------+--------------------+-------+--------------------+------------+----------+--------------------+--------------------+------------------+------------------+--------------------+-----------------+--------------------+--------------------+--------------------+-------------------+-------------------------+--------------------+--------------------+----------------------+--------------------+----------------------+----------------------------+------------------+--------------------+--------------------+---------------+------------+---------+----------------+--------+----+--------------------+-------+--------------+--------------+----------------------+----------------------+----------------------+----------------------+----------------------+----------------------+----------------+----------------+---------------+---------------+---------------+----------------+---------------------+-----------------+---------------------+----------------------+------------+-----------+--------------------+----------------------+-------------------------+---------------------+---------------------------+----------------------+-------------------+-------+----------------+------------------------------+-------------------------------------------+--------------------------------------------+-------------------------------------------+-----------------+\n",
      "| 13913|https://www.airbn...|20240906025501|  2024-09-06|    city scrape|Holiday London DB...|My bright double ...| Finsbury Park is ...|https://a0.muscac...|  54730|https://www.airbn...|       Alina|2009-11-16|London, United Ki...|I am a Multi-Medi...|    within an hour|              100%|                 77%|                t|https://a0.muscac...|https://a0.muscac...|     LB of Islington|                  3|                        4|  ['email', 'phone']|                   t|                     t|Neighborhood high...|             Islington|                        NULL|          51.56861|             -0.1127|Private room in r...|   Private room|           1|      1.0|   1 shared bath|       1|   1|[\"Refrigerator\", ...| $59.00|             1|            29|                     1|                     1|                    29|                    29|                   1.0|                  29.0|            NULL|               t|             28|             58|             88|             363|           2024-09-06|               44|                    4|                     0|  2010-08-18| 2024-07-10|                4.82|                  4.74|                     4.74|                 4.77|                       4.84|                  4.72|               4.72|   NULL|               f|                             3|                                          2|                                           1|                                          0|             0.26|\n",
      "| 15400|https://www.airbn...|20240906025501|  2024-09-07|    city scrape|Bright Chelsea  A...|Lots of windows a...|       It is Chelsea.|https://a0.muscac...|  60302|https://www.airbn...|    Philippa|2009-12-05|Royal Borough of ...|English, grandmot...|               N/A|               N/A|                100%|                f|https://a0.muscac...|https://a0.muscac...|             Chelsea|                  1|                        1|  ['email', 'phone']|                   t|                     t|Neighborhood high...|  Kensington and Ch...|                        NULL|           51.4878|            -0.16813|  Entire rental unit|Entire home/apt|           2|      1.0|          1 bath|       1|   1|[\"Host greets you...|$120.00|             4|            30|                     4|                     4|                    30|                    30|                   4.0|                  30.0|            NULL|               t|              0|              0|              0|             244|           2024-09-07|               96|                    2|                     0|  2009-12-21| 2024-04-28|                 4.8|                  4.86|                     4.88|                 4.88|                       4.84|                  4.93|               4.75|   NULL|               f|                             1|                                          1|                                           0|                                          0|             0.54|\n",
      "| 17402|https://www.airbn...|20240906025501|  2024-09-07|    city scrape|Fab 3-Bed/2 Bath ...|You'll have a gre...| Fitzrovia is a ve...|https://a0.muscac...|  67564|https://www.airbn...|         Liz|2010-01-04|London, United Ki...|We are Liz and Ja...|    within an hour|              100%|                 94%|                t|https://a0.muscac...|https://a0.muscac...|           Fitzrovia|                  7|                       32|['email', 'phone'...|                   t|                     t|Neighborhood high...|           Westminster|                        NULL|          51.52195|            -0.14094|  Entire rental unit|Entire home/apt|           6|      2.0|         2 baths|       3|   3|[\"Refrigerator\", ...|$493.00|             3|           365|                     3|                     3|                   365|                   365|                   3.0|                 365.0|            NULL|               t|             14|             37|             49|             285|           2024-09-07|               56|                    2|                     0|  2011-03-21| 2024-02-19|                4.77|                  4.83|                     4.72|                 4.72|                       4.72|                  4.89|               4.61|   NULL|               f|                             6|                                          6|                                           0|                                          0|             0.34|\n",
      "| 24328|https://www.airbn...|20240906025501|  2024-09-07|    city scrape|Battersea live/wo...|Artist house, bri...| - Battersea is a ...|https://a0.muscac...|  41759|https://www.airbn...|         Joe|2009-09-28|London, United Ki...|I've been using A...|      within a day|              100%|                 25%|                f|https://a0.muscac...|https://a0.muscac...|           Battersea|                  1|                        3|['email', 'phone'...|                   t|                     t|Neighborhood high...|            Wandsworth|                        NULL|          51.47072|            -0.16266|    Entire townhouse|Entire home/apt|           4|      1.5|       1.5 baths|       1|   1|[\"BBQ grill: char...|$190.00|             2|          1125|                     2|                     2|                  1125|                  1125|                   2.0|                1125.0|            NULL|               t|              0|              0|              6|             281|           2024-09-07|               94|                    0|                     0|  2010-11-15| 2022-07-19|                 4.9|                  4.89|                     4.91|                  4.9|                       4.93|                  4.59|               4.65|   NULL|               f|                             1|                                          1|                                           0|                                          0|             0.56|\n",
      "| 33332|https://www.airbn...|20240906025501|  2024-09-06|    city scrape|Beautiful Ensuite...|Walking distance ...| Peaceful and frie...|https://a0.muscac...| 144444|https://www.airbn...|     Chi-Chi|2010-06-14|Isleworth, United...|Quite busy and of...|               N/A|               N/A|                 N/A|                f|https://a0.muscac...|https://a0.muscac...|      LB of Hounslow|                  2|                        2|  ['email', 'phone']|                   t|                     f|Neighborhood high...|  Richmond upon Thames|                        NULL|           51.4641|            -0.32498|Private room in home|   Private room|           2|      1.0|  1 private bath|       1|   1|[\"Free street par...|$140.00|             2|            21|                     2|                     2|                    21|                    21|                   2.0|                  21.0|            NULL|               t|             30|             60|             90|             365|           2024-09-06|               19|                    0|                     0|  2010-10-16| 2022-08-01|                4.37|                  4.44|                     4.56|                 4.56|                        4.5|                  4.67|               4.22|   NULL|               f|                             2|                                          0|                                           2|                                          0|             0.11|\n",
      "|116268|https://www.airbn...|20240906025501|  2024-09-06|    city scrape|Double Room (Unav...|One lovely bright...| Leafy suburban ar...|https://a0.muscac...| 586671|https://www.airbn...|         Joe|2011-05-14|London, United Ki...|Open, friendly gu...|    within an hour|              100%|                 83%|                t|https://a0.muscac...|https://a0.muscac...|       LB of Enfield|                  1|                        1|  ['email', 'phone']|                   t|                     t|Neighborhood high...|               Enfield|                        NULL|          51.61137|            -0.11888|Private room in t...|   Private room|           1|      1.0|   1 shared bath|       1|   1|[\"Host greets you...| $40.00|             7|           730|                     7|                     7|                   730|                   730|                   7.0|                 730.0|            NULL|               t|              1|              1|              1|             105|           2024-09-06|               38|                    1|                     0|  2013-07-06| 2024-01-01|                4.89|                  4.95|                     4.82|                  5.0|                        5.0|                  4.66|               4.87|   NULL|               f|                             1|                                          0|                                           1|                                          0|             0.28|\n",
      "|117203|https://www.airbn...|20240906025501|  2024-09-07|    city scrape|A stylish Victori...|A very large and ...| For the lovers of...|https://a0.muscac...| 255103|https://www.airbn...|        Olga|2010-10-06|London, United Ki...|A writer and film...|    within an hour|              100%|                 92%|                t|https://a0.muscac...|https://a0.muscac...|         Hammersmith|                  1|                        1|['email', 'phone'...|                   t|                     t|Neighborhood high...|  Hammersmith and F...|                        NULL| 51.50155001001136| -0.2330022236049805|  Entire rental unit|Entire home/apt|           2|      1.0|          1 bath|       1|   1|[\"Refrigerator\", ...|$131.00|             5|           100|                     5|                     5|                  1125|                  1125|                   5.0|                1125.0|            NULL|               t|              0|             16|             33|              33|           2024-09-07|               91|                   10|                     0|  2012-01-04| 2024-06-09|                4.85|                  4.88|                     4.88|                 4.82|                       4.92|                  4.54|                4.7|   NULL|               f|                             1|                                          1|                                           0|                                          0|             0.59|\n",
      "|127652|https://www.airbn...|20240906025501|  2024-09-07|    city scrape|Contemporary cent...|5* rated Airbnb c...| My quiet and safe...|https://a0.muscac...| 134938|https://www.airbn...|         Ron|2010-05-30|London, United Ki...|Dear guest, I hop...|    within an hour|              100%|                 80%|                t|https://a0.muscac...|https://a0.muscac...|           Hampstead|                  2|                        3|  ['email', 'phone']|                   t|                     t|Neighborhood high...|                Camden|                        NULL|51.559528422658126| -0.1443191630608515|  Entire rental unit|Entire home/apt|           5|      1.5|       1.5 baths|       2|   3|[\"Host greets you...|$215.00|             5|          1125|                     5|                    90|                  1125|                  1125|                  34.5|                1125.0|            NULL|               t|              0|              0|              0|             134|           2024-09-07|              216|                    5|                     0|  2011-07-03| 2024-07-09|                4.89|                  4.85|                     4.79|                 4.97|                       4.96|                  4.83|               4.77|   NULL|               f|                             1|                                          1|                                           0|                                          0|             1.35|\n",
      "|127860|https://www.airbn...|20240906025501|  2024-09-10|previous scrape|Double bedroom in...|One gorgeous, lig...| Very, very safe a...|https://a0.muscac...| 161720|https://www.airbn...|        Andy|2010-07-09|Twickenham, Unite...|My wife and I wor...|               N/A|               N/A|                 N/A|                f|https://a0.muscac...|https://a0.muscac...|                NULL|                  1|                        1|  ['email', 'phone']|                   t|                     t|Neighborhood high...|  Richmond upon Thames|                        NULL|          51.44777|            -0.33962|Private room in home|   Private room|           2|     NULL|   1 shared bath|    NULL|NULL|[\"Shampoo\", \"Iron...|   NULL|             2|            30|                     2|                     2|                    30|                    30|                   2.0|                  30.0|            NULL|               t|              0|              0|              0|               0|           2024-09-10|                0|                    0|                     0|        NULL|       NULL|                NULL|                  NULL|                     NULL|                 NULL|                       NULL|                  NULL|               NULL|   NULL|               f|                             1|                                          0|                                           1|                                          0|             NULL|\n",
      "|131444|https://www.airbn...|20240906025501|  2024-09-07|    city scrape|Apartment close t...|Conveniently loca...| Kennington is a g...|https://a0.muscac...| 646165|https://www.airbn...|    Yevgeniy|2011-05-31|London, United Ki...|I live in London ...|    within an hour|              100%|                 95%|                f|https://a0.muscac...|https://a0.muscac...|             Lambeth|                  2|                        2|  ['email', 'phone']|                   t|                     t|Neighborhood high...|               Lambeth|                        NULL|51.491476077972614|-0.11151361334918049|  Entire rental unit|Entire home/apt|           3|      1.0|          1 bath|       1|   2|[\"Host greets you...|$150.00|            30|           600|                     2|                    30|                   600|                   600|                  28.6|                 600.0|            NULL|               t|              0|              1|              1|               6|           2024-09-07|              148|                   12|                     0|  2011-08-29| 2024-06-15|                4.78|                  4.94|                     4.81|                 4.85|                       4.97|                  4.72|               4.79|   NULL|               f|                             2|                                          2|                                           0|                                          0|             0.93|\n",
      "|137581|https://www.airbn...|20240906025501|  2024-09-07|    city scrape|I Bedroom flat To...|City of London fl...| The flat is locat...|https://a0.muscac...| 471088|https://www.airbn...|     Anthony|2011-03-29|Kensington, Unite...|If you have any q...|within a few hours|              100%|                 94%|                t|https://a0.muscac...|https://a0.muscac...|      City of London|                  1|                        2|  ['email', 'phone']|                   t|                     t|Neighborhood high...|        City of London|                        NULL|          51.51099|            -0.07862|  Entire rental unit|Entire home/apt|           2|      1.0|          1 bath|       1|   2|[\"Refrigerator\", ...|$145.00|             5|            14|                     2|                     6|                    14|                    14|                   4.9|                  14.0|            NULL|               t|              1|              3|             11|             160|           2024-09-07|              248|                   24|                     1|  2011-07-11| 2024-08-13|                 4.9|                  4.95|                     4.89|                 4.96|                       4.96|                  4.92|               4.85|   NULL|               f|                             1|                                          1|                                           0|                                          0|             1.55|\n",
      "|137907|https://www.airbn...|20240906025501|  2024-09-10|previous scrape|Elegant Very Cent...|Clean modern well...| Location, locatio...|https://a0.muscac...|  67564|https://www.airbn...|         Liz|2010-01-04|London, United Ki...|We are Liz and Ja...|    within an hour|              100%|                 94%|                t|https://a0.muscac...|https://a0.muscac...|           Fitzrovia|                  7|                       32|['email', 'phone'...|                   t|                     t|Neighborhood high...|                Camden|                        NULL|          51.52197|            -0.14035|  Entire rental unit|Entire home/apt|           3|     NULL|          1 bath|       1|NULL|[\"Washer\", \"Refri...|   NULL|             3|            90|                     3|                     3|                    90|                    90|                   3.0|                  90.0|            NULL|               t|             23|             25|             25|              25|           2024-09-10|               66|                    2|                     0|  2012-11-11| 2024-06-15|                4.68|                  4.86|                     4.89|                 4.84|                       4.94|                  4.88|               4.58|   NULL|               f|                             6|                                          6|                                           0|                                          0|             0.46|\n",
      "| 36274|https://www.airbn...|20240906025501|  2024-09-07|    city scrape|Bright 1 bedroom ...|Whole private apa...|                 NULL|https://a0.muscac...| 133271|https://www.airbn...|    Hendryks|2010-05-27|London, United Ki...|We are Hendryks S...|    within an hour|               96%|                 98%|                f|https://a0.muscac...|https://a0.muscac...|          Shoreditch|                  9|                      108|  ['email', 'phone']|                   t|                     t|                NULL|         Tower Hamlets|                        NULL|          51.52322|            -0.06979|        Entire condo|Entire home/apt|           4|      1.0|          1 bath|       1|   0|[\"Washer\", \"Heati...|$109.00|             2|          1125|                     2|                    14|                  1125|                  1125|                  12.4|                1125.0|            NULL|               t|             24|             54|             84|             359|           2024-09-07|                8|                    0|                     0|  2011-03-20| 2013-06-28|                4.63|                  4.67|                      4.5|                 4.83|                        5.0|                  4.83|               4.67|   NULL|               t|                             8|                                          8|                                           0|                                          0|             0.05|\n",
      "| 36299|https://www.airbn...|20240906025501|  2024-09-06|    city scrape|Kew Gardens 3BR h...|3 Bed House with ...| Residential famil...|https://a0.muscac...| 155938|https://www.airbn...|       Geert|2010-06-30|Richmond, United ...|                   .|    within an hour|              100%|                 83%|                f|https://a0.muscac...|https://a0.muscac...|LB of Richmond up...|                  1|                        1|['email', 'phone'...|                   t|                     t|Neighborhood high...|  Richmond upon Thames|                        NULL|          51.48085|            -0.28086|    Entire townhouse|Entire home/apt|           5|      1.5|       1.5 baths|       3|   3|[\"Refrigerator\", ...|$245.00|             3|            22|                     3|                     3|                    22|                    22|                   3.0|                  22.0|            NULL|               t|             13|             43|             73|             272|           2024-09-06|              110|                    5|                     1|  2010-10-25| 2024-08-20|                4.79|                  4.76|                     4.77|                 4.93|                       4.96|                  4.89|               4.63|   NULL|               f|                             1|                                          1|                                           0|                                          0|             0.65|\n",
      "| 36660|https://www.airbn...|20240906025501|  2024-09-06|    city scrape|You are GUARANTEE...|                NULL| East Finchley is ...|https://a0.muscac...| 157884|https://www.airbn...|Agri & Roger|2010-07-04|London, United Ki...|We are a happy co...|    within an hour|              100%|                100%|                t|https://a0.muscac...|https://a0.muscac...|      LB of Haringey|                  2|                        4|  ['email', 'phone']|                   t|                     t|Neighborhood high...|              Haringey|                        NULL|          51.58478|            -0.16057|Private room in home|   Private room|           2|      0.0|  0 shared baths|       1|   1|[\"Private backyar...| $82.00|             2|           365|                     2|                     2|                   365|                   365|                   2.0|                 365.0|            NULL|               t|              2|             13|             31|             247|           2024-09-06|              691|                   52|                     4|  2010-09-14| 2024-08-21|                4.86|                  4.89|                     4.85|                 4.96|                       4.96|                  4.77|               4.86|   NULL|               t|                             2|                                          0|                                           2|                                          0|             4.06|\n",
      "| 38610|https://www.airbn...|20240906025501|  2024-09-07|    city scrape|CHARMING FAMILY HOME|A typical Victori...| Shepherds Bush it...|https://a0.muscac...| 165579|https://www.airbn...| Elisa & Dom|2010-07-13|      United Kingdom|We are Elisa and ...|within a few hours|              100%|                 71%|                t|https://a0.muscac...|https://a0.muscac...|     Shepherd's Bush|                  3|                        3|  ['email', 'phone']|                   t|                     t|Neighborhood high...|  Hammersmith and F...|                        NULL|          51.50701|            -0.23362|    Entire townhouse|Entire home/apt|           7|      2.0|         2 baths|       4|   4|[\"Refrigerator\", ...|$289.00|             7|           730|                     7|                    21|                   730|                   730|                   8.5|                 730.0|            NULL|               t|              0|             20|             50|             118|           2024-09-07|               42|                    0|                     0|  2012-08-09| 2023-08-27|                4.83|                  4.86|                      4.6|                  5.0|                       4.98|                  4.79|               4.69|   NULL|               f|                             2|                                          2|                                           0|                                          0|             0.29|\n",
      "| 38950|https://www.airbn...|20240906025501|  2024-09-06|    city scrape|Room 1 Large Doub...|Room 1  GF<br />B...| North London N17....|https://a0.muscac...| 167107|https://www.airbn...|        Paul|2010-07-15|London, United Ki...|Paul Lemberth D.C...|               N/A|               N/A|                 N/A|                f|https://a0.muscac...|https://a0.muscac...|      LB of Haringey|                  3|                        5|  ['email', 'phone']|                   t|                     t|Neighborhood high...|              Haringey|                        NULL|          51.58684|            -0.08632|Private room in t...|   Private room|           2|      1.5|1.5 shared baths|       3|   1|[\"Host greets you...| $55.00|             1|            90|                     1|                     1|                    90|                    90|                   1.0|                  90.0|            NULL|               t|             29|             59|             89|              89|           2024-09-06|                1|                    0|                     0|  2021-12-12| 2021-12-12|                 5.0|                   5.0|                      5.0|                  5.0|                        5.0|                   5.0|                5.0|   NULL|               f|                             2|                                          0|                                           2|                                          0|             0.03|\n",
      "| 38995|https://www.airbn...|20240906025501|  2024-09-06|    city scrape|SPACIOUS ROOM IN ...|Welcome to my pla...| Peckham itself is...|https://a0.muscac...| 167281|https://www.airbn...|       Cesar|2010-07-15|London, United Ki...|Hi, I am Cesar.  ...|within a few hours|              100%|                 72%|                t|https://a0.muscac...|https://a0.muscac...|             Peckham|                  1|                        1|  ['email', 'phone']|                   t|                     t|Neighborhood high...|             Southwark|                        NULL|           51.4786|            -0.06114|Private room in r...|   Private room|           2|      1.0|   1 shared bath|       1|   1|[\"Refrigerator\", ...| $55.00|             1|             8|                     1|                     1|                     8|                     8|                   1.0|                   8.0|            NULL|               t|             23|             53|             83|             173|           2024-09-06|               55|                   16|                     1|  2020-02-08| 2024-09-05|                4.96|                  4.93|                      5.0|                 4.96|                       4.98|                  4.76|               4.89|   NULL|               f|                             1|                                          0|                                           1|                                          0|             0.99|\n",
      "| 39387|https://www.airbn...|20240906025501|  2024-09-10|previous scrape|Stylish bedsit in...|Private lockable ...| My place is conve...|https://a0.muscac...| 168920|https://www.airbn...|        Alec|2010-07-17|London, United Ki...|Relaxed and matur...|               N/A|               N/A|                 N/A|                f|https://a0.muscac...|https://a0.muscac...| City of Westminster|                  1|                        1|  ['email', 'phone']|                   t|                     t|Neighborhood high...|           Westminster|                        NULL|          51.52605|            -0.19942|Private room in c...|   Private room|           1|     NULL|   1 shared bath|    NULL|NULL|[\"Shower gel\", \"5...|   NULL|             5|            10|                     5|                     5|                    10|                    10|                   5.0|                  10.0|            NULL|               t|              0|              0|              0|               0|           2024-09-10|               10|                    0|                     0|  2014-06-18| 2019-11-03|                 4.5|                   4.6|                      3.6|                  4.8|                        4.9|                   4.5|                4.3|   NULL|               f|                             1|                                          0|                                           1|                                          0|             0.08|\n",
      "| 41445|https://www.airbn...|20240906025501|  2024-09-06|    city scrape|2 Double bed apar...|The apartment is ...| Quite area popula...|https://a0.muscac...| 180838|https://www.airbn...|        Sean|2010-07-26|Edgware, United K...|I am originally f...|    within an hour|              100%|                 86%|                f|https://a0.muscac...|https://a0.muscac...|        LB of Barnet|                  1|                        1|['email', 'phone'...|                   t|                     t|Neighborhood high...|                Barnet|                        NULL|          51.61492|            -0.25632|  Entire rental unit|Entire home/apt|           4|      1.0|          1 bath|       2|   3|[\"Host greets you...|$120.00|             4|          1125|                     4|                     4|                  1125|                  1125|                   4.0|                1125.0|            NULL|               t|             22|             52|             82|             172|           2024-09-06|               25|                    6|                     2|  2012-04-28| 2024-08-24|                 4.5|                  4.52|                     4.24|                 4.88|                       4.56|                  4.64|               4.16|   NULL|               f|                             1|                                          1|                                           0|                                          0|             0.17|\n",
      "+------+--------------------+--------------+------------+---------------+--------------------+--------------------+---------------------+--------------------+-------+--------------------+------------+----------+--------------------+--------------------+------------------+------------------+--------------------+-----------------+--------------------+--------------------+--------------------+-------------------+-------------------------+--------------------+--------------------+----------------------+--------------------+----------------------+----------------------------+------------------+--------------------+--------------------+---------------+------------+---------+----------------+--------+----+--------------------+-------+--------------+--------------+----------------------+----------------------+----------------------+----------------------+----------------------+----------------------+----------------+----------------+---------------+---------------+---------------+----------------+---------------------+-----------------+---------------------+----------------------+------------+-----------+--------------------+----------------------+-------------------------+---------------------+---------------------------+----------------------+-------------------+-------+----------------+------------------------------+-------------------------------------------+--------------------------------------------+-------------------------------------------+-----------------+\n",
      "only showing top 20 rows\n"
     ]
    }
   ],
   "execution_count": 5
  },
  {
   "metadata": {
    "ExecuteTime": {
     "end_time": "2025-08-02T18:34:44.226048Z",
     "start_time": "2025-08-02T18:34:44.220161Z"
    }
   },
   "cell_type": "code",
   "source": [
    "for field in listings.schema:\n",
    "    print(field)"
   ],
   "id": "3ac64f136795c00d",
   "outputs": [
    {
     "name": "stdout",
     "output_type": "stream",
     "text": [
      "StructField('id', LongType(), True)\n",
      "StructField('listing_url', StringType(), True)\n",
      "StructField('scrape_id', LongType(), True)\n",
      "StructField('last_scraped', DateType(), True)\n",
      "StructField('source', StringType(), True)\n",
      "StructField('name', StringType(), True)\n",
      "StructField('description', StringType(), True)\n",
      "StructField('neighborhood_overview', StringType(), True)\n",
      "StructField('picture_url', StringType(), True)\n",
      "StructField('host_id', IntegerType(), True)\n",
      "StructField('host_url', StringType(), True)\n",
      "StructField('host_name', StringType(), True)\n",
      "StructField('host_since', DateType(), True)\n",
      "StructField('host_location', StringType(), True)\n",
      "StructField('host_about', StringType(), True)\n",
      "StructField('host_response_time', StringType(), True)\n",
      "StructField('host_response_rate', StringType(), True)\n",
      "StructField('host_acceptance_rate', StringType(), True)\n",
      "StructField('host_is_superhost', StringType(), True)\n",
      "StructField('host_thumbnail_url', StringType(), True)\n",
      "StructField('host_picture_url', StringType(), True)\n",
      "StructField('host_neighbourhood', StringType(), True)\n",
      "StructField('host_listings_count', IntegerType(), True)\n",
      "StructField('host_total_listings_count', IntegerType(), True)\n",
      "StructField('host_verifications', StringType(), True)\n",
      "StructField('host_has_profile_pic', StringType(), True)\n",
      "StructField('host_identity_verified', StringType(), True)\n",
      "StructField('neighbourhood', StringType(), True)\n",
      "StructField('neighbourhood_cleansed', StringType(), True)\n",
      "StructField('neighbourhood_group_cleansed', StringType(), True)\n",
      "StructField('latitude', DoubleType(), True)\n",
      "StructField('longitude', DoubleType(), True)\n",
      "StructField('property_type', StringType(), True)\n",
      "StructField('room_type', StringType(), True)\n",
      "StructField('accommodates', IntegerType(), True)\n",
      "StructField('bathrooms', DoubleType(), True)\n",
      "StructField('bathrooms_text', StringType(), True)\n",
      "StructField('bedrooms', IntegerType(), True)\n",
      "StructField('beds', IntegerType(), True)\n",
      "StructField('amenities', StringType(), True)\n",
      "StructField('price', StringType(), True)\n",
      "StructField('minimum_nights', IntegerType(), True)\n",
      "StructField('maximum_nights', IntegerType(), True)\n",
      "StructField('minimum_minimum_nights', IntegerType(), True)\n",
      "StructField('maximum_minimum_nights', IntegerType(), True)\n",
      "StructField('minimum_maximum_nights', IntegerType(), True)\n",
      "StructField('maximum_maximum_nights', IntegerType(), True)\n",
      "StructField('minimum_nights_avg_ntm', DoubleType(), True)\n",
      "StructField('maximum_nights_avg_ntm', DoubleType(), True)\n",
      "StructField('calendar_updated', StringType(), True)\n",
      "StructField('has_availability', StringType(), True)\n",
      "StructField('availability_30', IntegerType(), True)\n",
      "StructField('availability_60', IntegerType(), True)\n",
      "StructField('availability_90', IntegerType(), True)\n",
      "StructField('availability_365', IntegerType(), True)\n",
      "StructField('calendar_last_scraped', DateType(), True)\n",
      "StructField('number_of_reviews', IntegerType(), True)\n",
      "StructField('number_of_reviews_ltm', IntegerType(), True)\n",
      "StructField('number_of_reviews_l30d', IntegerType(), True)\n",
      "StructField('first_review', DateType(), True)\n",
      "StructField('last_review', DateType(), True)\n",
      "StructField('review_scores_rating', DoubleType(), True)\n",
      "StructField('review_scores_accuracy', DoubleType(), True)\n",
      "StructField('review_scores_cleanliness', DoubleType(), True)\n",
      "StructField('review_scores_checkin', DoubleType(), True)\n",
      "StructField('review_scores_communication', DoubleType(), True)\n",
      "StructField('review_scores_location', DoubleType(), True)\n",
      "StructField('review_scores_value', DoubleType(), True)\n",
      "StructField('license', StringType(), True)\n",
      "StructField('instant_bookable', StringType(), True)\n",
      "StructField('calculated_host_listings_count', IntegerType(), True)\n",
      "StructField('calculated_host_listings_count_entire_homes', IntegerType(), True)\n",
      "StructField('calculated_host_listings_count_private_rooms', IntegerType(), True)\n",
      "StructField('calculated_host_listings_count_shared_rooms', IntegerType(), True)\n",
      "StructField('reviews_per_month', DoubleType(), True)\n"
     ]
    }
   ],
   "execution_count": 8
  },
  {
   "metadata": {
    "ExecuteTime": {
     "end_time": "2025-08-02T18:36:55.487488Z",
     "start_time": "2025-08-02T18:36:55.366962Z"
    }
   },
   "cell_type": "code",
   "source": [
    "neighbourhoods = listings.select(listings.neighbourhood_cleansed)\n",
    "neighbourhoods.show(20)"
   ],
   "id": "21f623825278e1e",
   "outputs": [
    {
     "name": "stdout",
     "output_type": "stream",
     "text": [
      "+----------------------+\n",
      "|neighbourhood_cleansed|\n",
      "+----------------------+\n",
      "|             Islington|\n",
      "|  Kensington and Ch...|\n",
      "|           Westminster|\n",
      "|            Wandsworth|\n",
      "|  Richmond upon Thames|\n",
      "|               Enfield|\n",
      "|  Hammersmith and F...|\n",
      "|                Camden|\n",
      "|  Richmond upon Thames|\n",
      "|               Lambeth|\n",
      "|        City of London|\n",
      "|                Camden|\n",
      "|         Tower Hamlets|\n",
      "|  Richmond upon Thames|\n",
      "|              Haringey|\n",
      "|  Hammersmith and F...|\n",
      "|              Haringey|\n",
      "|             Southwark|\n",
      "|           Westminster|\n",
      "|                Barnet|\n",
      "+----------------------+\n",
      "only showing top 20 rows\n"
     ]
    }
   ],
   "execution_count": 9
  },
  {
   "metadata": {
    "ExecuteTime": {
     "end_time": "2025-08-02T18:37:28.279558Z",
     "start_time": "2025-08-02T18:37:28.150316Z"
    }
   },
   "cell_type": "code",
   "source": [
    "neighbourhoods = listings.select(listings.neighbourhood_cleansed.alias(\"neighbourhood\"))\n",
    "neighbourhoods.show(20, truncate=False)\n"
   ],
   "id": "fe1c8c88792787ab",
   "outputs": [
    {
     "name": "stdout",
     "output_type": "stream",
     "text": [
      "+----------------------+\n",
      "|neighbourhood         |\n",
      "+----------------------+\n",
      "|Islington             |\n",
      "|Kensington and Chelsea|\n",
      "|Westminster           |\n",
      "|Wandsworth            |\n",
      "|Richmond upon Thames  |\n",
      "|Enfield               |\n",
      "|Hammersmith and Fulham|\n",
      "|Camden                |\n",
      "|Richmond upon Thames  |\n",
      "|Lambeth               |\n",
      "|City of London        |\n",
      "|Camden                |\n",
      "|Tower Hamlets         |\n",
      "|Richmond upon Thames  |\n",
      "|Haringey              |\n",
      "|Hammersmith and Fulham|\n",
      "|Haringey              |\n",
      "|Southwark             |\n",
      "|Westminster           |\n",
      "|Barnet                |\n",
      "+----------------------+\n",
      "only showing top 20 rows\n"
     ]
    }
   ],
   "execution_count": 10
  },
  {
   "metadata": {
    "ExecuteTime": {
     "end_time": "2025-08-02T18:41:26.429049Z",
     "start_time": "2025-08-02T18:41:26.191615Z"
    }
   },
   "cell_type": "code",
   "source": [
    "review_locations = listings.select(listings.review_scores_location)\n",
    "review_locations.show()"
   ],
   "id": "4eed90f77f54b463",
   "outputs": [
    {
     "name": "stdout",
     "output_type": "stream",
     "text": [
      "+----------------------+\n",
      "|review_scores_location|\n",
      "+----------------------+\n",
      "|                  4.72|\n",
      "|                  4.93|\n",
      "|                  4.89|\n",
      "|                  4.59|\n",
      "|                  4.67|\n",
      "|                  4.66|\n",
      "|                  4.54|\n",
      "|                  4.83|\n",
      "|                  NULL|\n",
      "|                  4.72|\n",
      "|                  4.92|\n",
      "|                  4.88|\n",
      "|                  4.83|\n",
      "|                  4.89|\n",
      "|                  4.77|\n",
      "|                  4.79|\n",
      "|                   5.0|\n",
      "|                  4.76|\n",
      "|                   4.5|\n",
      "|                  4.64|\n",
      "+----------------------+\n",
      "only showing top 20 rows\n"
     ]
    }
   ],
   "execution_count": 11
  },
  {
   "metadata": {
    "ExecuteTime": {
     "end_time": "2025-08-02T18:43:04.556464Z",
     "start_time": "2025-08-02T18:43:04.421076Z"
    }
   },
   "cell_type": "code",
   "source": [
    "listings \\\n",
    "  .select(listings.review_scores_location) \\\n",
    "  .show()"
   ],
   "id": "ee4e4fd8f4b9808",
   "outputs": [
    {
     "name": "stdout",
     "output_type": "stream",
     "text": [
      "+----------------------+\n",
      "|review_scores_location|\n",
      "+----------------------+\n",
      "|                  4.72|\n",
      "|                  4.93|\n",
      "|                  4.89|\n",
      "|                  4.59|\n",
      "|                  4.67|\n",
      "|                  4.66|\n",
      "|                  4.54|\n",
      "|                  4.83|\n",
      "|                  NULL|\n",
      "|                  4.72|\n",
      "|                  4.92|\n",
      "|                  4.88|\n",
      "|                  4.83|\n",
      "|                  4.89|\n",
      "|                  4.77|\n",
      "|                  4.79|\n",
      "|                   5.0|\n",
      "|                  4.76|\n",
      "|                   4.5|\n",
      "|                  4.64|\n",
      "+----------------------+\n",
      "only showing top 20 rows\n"
     ]
    }
   ],
   "execution_count": 12
  },
  {
   "metadata": {
    "ExecuteTime": {
     "end_time": "2025-08-02T18:43:33.073566Z",
     "start_time": "2025-08-02T18:43:32.657637Z"
    }
   },
   "cell_type": "code",
   "source": [
    "high_score_listings = listings \\\n",
    "  .filter(listings.review_scores_location > 4.5) \\\n",
    "  .select('id', 'price', 'name', 'review_scores_location')\n",
    "\n",
    "high_score_listings.show(20, truncate=False)"
   ],
   "id": "1e4ebc9bb64d6fd5",
   "outputs": [
    {
     "name": "stdout",
     "output_type": "stream",
     "text": [
      "+------+-------+--------------------------------------------------+----------------------+\n",
      "|id    |price  |name                                              |review_scores_location|\n",
      "+------+-------+--------------------------------------------------+----------------------+\n",
      "|13913 |$59.00 |Holiday London DB Room Let-on going               |4.72                  |\n",
      "|15400 |$120.00|Bright Chelsea  Apartment. Chelsea!               |4.93                  |\n",
      "|17402 |$493.00|Fab 3-Bed/2 Bath & Wifi: Trendy W1                |4.89                  |\n",
      "|24328 |$190.00|Battersea live/work artist house, garden & parking|4.59                  |\n",
      "|33332 |$140.00|Beautiful Ensuite Richmond-upon-Thames borough    |4.67                  |\n",
      "|116268|$40.00 |Double Room (Unavailable for check in 31Dec-1Jan) |4.66                  |\n",
      "|117203|$131.00|A stylish Victorian home in West London           |4.54                  |\n",
      "|127652|$215.00|Contemporary central London apt                   |4.83                  |\n",
      "|131444|$150.00|Apartment close to centre.                        |4.72                  |\n",
      "|137581|$145.00|I Bedroom flat Tower of London                    |4.92                  |\n",
      "|137907|NULL   |Elegant Very Central: Fitzrovia W1. King Bed, Wifi|4.88                  |\n",
      "|36274 |$109.00|Bright 1 bedroom off brick land                   |4.83                  |\n",
      "|36299 |$245.00|Kew Gardens 3BR house in cul-de-sac               |4.89                  |\n",
      "|36660 |$82.00 |You are GUARANTEED to love this                   |4.77                  |\n",
      "|38610 |$289.00|CHARMING FAMILY HOME                              |4.79                  |\n",
      "|38950 |$55.00 |Room 1 Large Double Bedroom - front ground floor  |5.0                   |\n",
      "|38995 |$55.00 |SPACIOUS ROOM IN CONTEMPORARY STYLE FLAT          |4.76                  |\n",
      "|41445 |$120.00|2 Double bed apartment in quiet area North London |4.64                  |\n",
      "|142117|$180.00|Stylish & Bright, 1 Bed, Shoreditch               |4.82                  |\n",
      "|145612|$37.00 |West London-W7, Hanwell(Area Ealing) Room (Female)|4.64                  |\n",
      "+------+-------+--------------------------------------------------+----------------------+\n",
      "only showing top 20 rows\n"
     ]
    }
   ],
   "execution_count": 13
  },
  {
   "metadata": {
    "ExecuteTime": {
     "end_time": "2025-08-02T18:45:30.275201Z",
     "start_time": "2025-08-02T18:45:30.153071Z"
    }
   },
   "cell_type": "code",
   "source": "high_score_listings.dropna().show(20, truncate=False)",
   "id": "a37dddc997f4edef",
   "outputs": [
    {
     "name": "stdout",
     "output_type": "stream",
     "text": [
      "+------+-------+--------------------------------------------------+----------------------+\n",
      "|id    |price  |name                                              |review_scores_location|\n",
      "+------+-------+--------------------------------------------------+----------------------+\n",
      "|13913 |$59.00 |Holiday London DB Room Let-on going               |4.72                  |\n",
      "|15400 |$120.00|Bright Chelsea  Apartment. Chelsea!               |4.93                  |\n",
      "|17402 |$493.00|Fab 3-Bed/2 Bath & Wifi: Trendy W1                |4.89                  |\n",
      "|24328 |$190.00|Battersea live/work artist house, garden & parking|4.59                  |\n",
      "|33332 |$140.00|Beautiful Ensuite Richmond-upon-Thames borough    |4.67                  |\n",
      "|116268|$40.00 |Double Room (Unavailable for check in 31Dec-1Jan) |4.66                  |\n",
      "|117203|$131.00|A stylish Victorian home in West London           |4.54                  |\n",
      "|127652|$215.00|Contemporary central London apt                   |4.83                  |\n",
      "|131444|$150.00|Apartment close to centre.                        |4.72                  |\n",
      "|137581|$145.00|I Bedroom flat Tower of London                    |4.92                  |\n",
      "|36274 |$109.00|Bright 1 bedroom off brick land                   |4.83                  |\n",
      "|36299 |$245.00|Kew Gardens 3BR house in cul-de-sac               |4.89                  |\n",
      "|36660 |$82.00 |You are GUARANTEED to love this                   |4.77                  |\n",
      "|38610 |$289.00|CHARMING FAMILY HOME                              |4.79                  |\n",
      "|38950 |$55.00 |Room 1 Large Double Bedroom - front ground floor  |5.0                   |\n",
      "|38995 |$55.00 |SPACIOUS ROOM IN CONTEMPORARY STYLE FLAT          |4.76                  |\n",
      "|41445 |$120.00|2 Double bed apartment in quiet area North London |4.64                  |\n",
      "|142117|$180.00|Stylish & Bright, 1 Bed, Shoreditch               |4.82                  |\n",
      "|145612|$37.00 |West London-W7, Hanwell(Area Ealing) Room (Female)|4.64                  |\n",
      "|157714|$69.00 |West London,loft ensuite, 5min2tube               |4.75                  |\n",
      "+------+-------+--------------------------------------------------+----------------------+\n",
      "only showing top 20 rows\n"
     ]
    }
   ],
   "execution_count": 14
  },
  {
   "metadata": {
    "ExecuteTime": {
     "end_time": "2025-08-02T18:46:25.471744Z",
     "start_time": "2025-08-02T18:46:25.465449Z"
    }
   },
   "cell_type": "code",
   "source": "high_score_listings.schema['price']",
   "id": "dd057c5f11fa371c",
   "outputs": [
    {
     "data": {
      "text/plain": [
       "StructField('price', StringType(), True)"
      ]
     },
     "execution_count": 15,
     "metadata": {},
     "output_type": "execute_result"
    }
   ],
   "execution_count": 15
  },
  {
   "metadata": {
    "ExecuteTime": {
     "end_time": "2025-08-02T18:49:44.866560Z",
     "start_time": "2025-08-02T18:49:44.749090Z"
    }
   },
   "cell_type": "code",
   "source": [
    "from pyspark.sql.functions import regexp_replace\n",
    "\n",
    "price_num_df = listings \\\n",
    "  .withColumn('price_num', regexp_replace('price', '[$,]', '').cast('float')) \\\n",
    "\n",
    "price_num_df.schema['price_num']"
   ],
   "id": "d24e7e3ec353bb71",
   "outputs": [
    {
     "data": {
      "text/plain": [
       "StructField('price_num', FloatType(), True)"
      ]
     },
     "execution_count": 16,
     "metadata": {},
     "output_type": "execute_result"
    }
   ],
   "execution_count": 16
  },
  {
   "metadata": {
    "ExecuteTime": {
     "end_time": "2025-08-02T19:43:00.504128Z",
     "start_time": "2025-08-02T19:43:00.119602Z"
    }
   },
   "cell_type": "code",
   "source": "price_num_df.select('price_num', 'name').where('price_num < 100').show(10, truncate=False)",
   "id": "628c99c18a79db69",
   "outputs": [
    {
     "name": "stdout",
     "output_type": "stream",
     "text": [
      "+---------+--------------------------------------------------+\n",
      "|price_num|name                                              |\n",
      "+---------+--------------------------------------------------+\n",
      "|59.0     |Holiday London DB Room Let-on going               |\n",
      "|40.0     |Double Room (Unavailable for check in 31Dec-1Jan) |\n",
      "|82.0     |You are GUARANTEED to love this                   |\n",
      "|55.0     |Room 1 Large Double Bedroom - front ground floor  |\n",
      "|55.0     |SPACIOUS ROOM IN CONTEMPORARY STYLE FLAT          |\n",
      "|37.0     |West London-W7, Hanwell(Area Ealing) Room (Female)|\n",
      "|69.0     |West London,loft ensuite, 5min2tube               |\n",
      "|55.0     |A double Room 5mins from King's College Hospital  |\n",
      "|94.0     |Charming Flat in Notting Hill                     |\n",
      "|86.0     |Room with a view, shared flat,  central  Bankside |\n",
      "+---------+--------------------------------------------------+\n",
      "only showing top 10 rows\n"
     ]
    }
   ],
   "execution_count": 43
  },
  {
   "metadata": {
    "ExecuteTime": {
     "end_time": "2025-08-02T18:51:33.836548Z",
     "start_time": "2025-08-02T18:51:33.590980Z"
    }
   },
   "cell_type": "code",
   "source": [
    "price_num_df.filter( (price_num_df.price_num < 100) & (price_num_df.review_scores_location > 4.5)) \\\n",
    "  .select('name', 'price', 'review_scores_location') \\\n",
    "  .show(truncate=False)"
   ],
   "id": "d78ec1d971bf9d00",
   "outputs": [
    {
     "name": "stdout",
     "output_type": "stream",
     "text": [
      "+--------------------------------------------------+------+----------------------+\n",
      "|name                                              |price |review_scores_location|\n",
      "+--------------------------------------------------+------+----------------------+\n",
      "|Holiday London DB Room Let-on going               |$59.00|4.72                  |\n",
      "|Double Room (Unavailable for check in 31Dec-1Jan) |$40.00|4.66                  |\n",
      "|You are GUARANTEED to love this                   |$82.00|4.77                  |\n",
      "|Room 1 Large Double Bedroom - front ground floor  |$55.00|5.0                   |\n",
      "|SPACIOUS ROOM IN CONTEMPORARY STYLE FLAT          |$55.00|4.76                  |\n",
      "|West London-W7, Hanwell(Area Ealing) Room (Female)|$37.00|4.64                  |\n",
      "|West London,loft ensuite, 5min2tube               |$69.00|4.75                  |\n",
      "|Charming Flat in Notting Hill                     |$94.00|4.87                  |\n",
      "|Room with a view, shared flat,  central  Bankside |$86.00|4.86                  |\n",
      "|You Will Save Money Here                          |$65.00|4.74                  |\n",
      "|Quiet Comfortable Room in Fulham                  |$60.00|4.64                  |\n",
      "|Room with a garden                                |$45.00|5.0                   |\n",
      "|Pleasant Single Room in zone 1.                   |$59.00|4.76                  |\n",
      "|Large Bedroom with EnSuite Bathroom               |$68.00|4.88                  |\n",
      "|Cosy Double studio in Zone 2 Hammersmith (6)      |$87.00|4.9                   |\n",
      "|Beautiful Small Studio Hammersmith                |$85.00|4.84                  |\n",
      "|Close to Wimbledon All England Tennis -huge double|$85.00|5.0                   |\n",
      "|Cosy Double studio in Zone 2 Hammersmith (1)      |$89.00|4.92                  |\n",
      "|Cosy Double studio in Zone 2 Hammersmith (4)      |$89.00|4.91                  |\n",
      "|Cosy Double studio in Zone 2 Hammersmith (3)      |$82.00|4.92                  |\n",
      "+--------------------------------------------------+------+----------------------+\n",
      "only showing top 20 rows\n"
     ]
    }
   ],
   "execution_count": 18
  },
  {
   "metadata": {
    "ExecuteTime": {
     "end_time": "2025-08-02T18:52:09.110187Z",
     "start_time": "2025-08-02T18:52:08.962281Z"
    }
   },
   "cell_type": "code",
   "source": [
    "price_num_df.filter('price_num < 100 AND review_scores_location > 4.5') \\\n",
    "  .select('name', 'price', 'review_scores_location') \\\n",
    "  .show(truncate=False)"
   ],
   "id": "ba046690cd1831d6",
   "outputs": [
    {
     "name": "stdout",
     "output_type": "stream",
     "text": [
      "+--------------------------------------------------+------+----------------------+\n",
      "|name                                              |price |review_scores_location|\n",
      "+--------------------------------------------------+------+----------------------+\n",
      "|Holiday London DB Room Let-on going               |$59.00|4.72                  |\n",
      "|Double Room (Unavailable for check in 31Dec-1Jan) |$40.00|4.66                  |\n",
      "|You are GUARANTEED to love this                   |$82.00|4.77                  |\n",
      "|Room 1 Large Double Bedroom - front ground floor  |$55.00|5.0                   |\n",
      "|SPACIOUS ROOM IN CONTEMPORARY STYLE FLAT          |$55.00|4.76                  |\n",
      "|West London-W7, Hanwell(Area Ealing) Room (Female)|$37.00|4.64                  |\n",
      "|West London,loft ensuite, 5min2tube               |$69.00|4.75                  |\n",
      "|Charming Flat in Notting Hill                     |$94.00|4.87                  |\n",
      "|Room with a view, shared flat,  central  Bankside |$86.00|4.86                  |\n",
      "|You Will Save Money Here                          |$65.00|4.74                  |\n",
      "|Quiet Comfortable Room in Fulham                  |$60.00|4.64                  |\n",
      "|Room with a garden                                |$45.00|5.0                   |\n",
      "|Pleasant Single Room in zone 1.                   |$59.00|4.76                  |\n",
      "|Large Bedroom with EnSuite Bathroom               |$68.00|4.88                  |\n",
      "|Cosy Double studio in Zone 2 Hammersmith (6)      |$87.00|4.9                   |\n",
      "|Beautiful Small Studio Hammersmith                |$85.00|4.84                  |\n",
      "|Close to Wimbledon All England Tennis -huge double|$85.00|5.0                   |\n",
      "|Cosy Double studio in Zone 2 Hammersmith (1)      |$89.00|4.92                  |\n",
      "|Cosy Double studio in Zone 2 Hammersmith (4)      |$89.00|4.91                  |\n",
      "|Cosy Double studio in Zone 2 Hammersmith (3)      |$82.00|4.92                  |\n",
      "+--------------------------------------------------+------+----------------------+\n",
      "only showing top 20 rows\n"
     ]
    }
   ],
   "execution_count": 19
  },
  {
   "metadata": {
    "ExecuteTime": {
     "end_time": "2025-08-02T18:53:44.577197Z",
     "start_time": "2025-08-02T18:53:42.146725Z"
    }
   },
   "cell_type": "code",
   "source": [
    "listings \\\n",
    "  .select(listings.property_type) \\\n",
    "  .distinct() \\\n",
    "  .show(truncate=False)"
   ],
   "id": "4de01d8ed441b2d9",
   "outputs": [
    {
     "name": "stderr",
     "output_type": "stream",
     "text": [
      "[Stage 13:>                                                         (0 + 1) / 1]\r"
     ]
    },
    {
     "name": "stdout",
     "output_type": "stream",
     "text": [
      "+----------------------------------+\n",
      "|property_type                     |\n",
      "+----------------------------------+\n",
      "|Private room in lighthouse        |\n",
      "|Private room in loft              |\n",
      "|Private room in earthen home      |\n",
      "|Entire chalet                     |\n",
      "|Earthen home                      |\n",
      "|Shared room in bus                |\n",
      "|Farm stay                         |\n",
      "|Entire rental unit                |\n",
      "|Shared room in hostel             |\n",
      "|Shared room                       |\n",
      "|Private room in condo             |\n",
      "|Room in boutique hotel            |\n",
      "|Private room in religious building|\n",
      "|Room in bed and breakfast         |\n",
      "|Private room in casa particular   |\n",
      "|Entire guesthouse                 |\n",
      "|Private room in bungalow          |\n",
      "|Entire cabin                      |\n",
      "|Hut                               |\n",
      "|Private room in nature lodge      |\n",
      "+----------------------------------+\n",
      "only showing top 20 rows\n"
     ]
    },
    {
     "name": "stderr",
     "output_type": "stream",
     "text": [
      "                                                                                \r"
     ]
    }
   ],
   "execution_count": 20
  },
  {
   "metadata": {
    "ExecuteTime": {
     "end_time": "2025-08-02T18:55:07.256067Z",
     "start_time": "2025-08-02T18:55:05.223402Z"
    }
   },
   "cell_type": "code",
   "source": [
    "listings \\\n",
    "  .select(listings.property_type, listings.room_type) \\\n",
    "  .distinct() \\\n",
    "  .show(truncate=False)"
   ],
   "id": "ca93a04ac3bb7eaa",
   "outputs": [
    {
     "name": "stderr",
     "output_type": "stream",
     "text": [
      "[Stage 16:>                                                         (0 + 1) / 1]\r"
     ]
    },
    {
     "name": "stdout",
     "output_type": "stream",
     "text": [
      "+----------------------------------+---------------+\n",
      "|property_type                     |room_type      |\n",
      "+----------------------------------+---------------+\n",
      "|Private room in casa particular   |Private room   |\n",
      "|Room in hostel                    |Hotel room     |\n",
      "|Dome                              |Entire home/apt|\n",
      "|Entire serviced apartment         |Entire home/apt|\n",
      "|Private room in loft              |Private room   |\n",
      "|Shipping container                |Entire home/apt|\n",
      "|Private room in villa             |Private room   |\n",
      "|Farm stay                         |Entire home/apt|\n",
      "|Room in hotel                     |Hotel room     |\n",
      "|Shared room in rental unit        |Shared room    |\n",
      "|Private room in guest suite       |Private room   |\n",
      "|Room in rental unit               |Hotel room     |\n",
      "|Room in serviced apartment        |Hotel room     |\n",
      "|Private room in serviced apartment|Private room   |\n",
      "|Private room in hostel            |Private room   |\n",
      "|Shared room                       |Shared room    |\n",
      "|Private room in yurt              |Private room   |\n",
      "|Room in boutique hotel            |Private room   |\n",
      "|Private room in shepherd's hut    |Private room   |\n",
      "|Entire rental unit                |Entire home/apt|\n",
      "+----------------------------------+---------------+\n",
      "only showing top 20 rows\n"
     ]
    },
    {
     "name": "stderr",
     "output_type": "stream",
     "text": [
      "                                                                                \r"
     ]
    }
   ],
   "execution_count": 21
  },
  {
   "metadata": {
    "ExecuteTime": {
     "end_time": "2025-08-02T18:55:16.139740Z",
     "start_time": "2025-08-02T18:55:14.038678Z"
    }
   },
   "cell_type": "code",
   "source": [
    "listings \\\n",
    "  .select(listings.property_type) \\\n",
    "  .distinct() \\\n",
    "  .write \\\n",
    "  .csv('data/property_types')"
   ],
   "id": "7cf69d0413fb1f4c",
   "outputs": [
    {
     "name": "stderr",
     "output_type": "stream",
     "text": [
      "                                                                                \r"
     ]
    }
   ],
   "execution_count": 22
  },
  {
   "metadata": {
    "ExecuteTime": {
     "end_time": "2025-08-02T19:01:38.115971Z",
     "start_time": "2025-08-02T19:01:38.099304Z"
    }
   },
   "cell_type": "code",
   "source": "listings.printSchema()",
   "id": "8ad7bc5cbabb24f2",
   "outputs": [
    {
     "name": "stdout",
     "output_type": "stream",
     "text": [
      "root\n",
      " |-- id: long (nullable = true)\n",
      " |-- listing_url: string (nullable = true)\n",
      " |-- scrape_id: long (nullable = true)\n",
      " |-- last_scraped: date (nullable = true)\n",
      " |-- source: string (nullable = true)\n",
      " |-- name: string (nullable = true)\n",
      " |-- description: string (nullable = true)\n",
      " |-- neighborhood_overview: string (nullable = true)\n",
      " |-- picture_url: string (nullable = true)\n",
      " |-- host_id: integer (nullable = true)\n",
      " |-- host_url: string (nullable = true)\n",
      " |-- host_name: string (nullable = true)\n",
      " |-- host_since: date (nullable = true)\n",
      " |-- host_location: string (nullable = true)\n",
      " |-- host_about: string (nullable = true)\n",
      " |-- host_response_time: string (nullable = true)\n",
      " |-- host_response_rate: string (nullable = true)\n",
      " |-- host_acceptance_rate: string (nullable = true)\n",
      " |-- host_is_superhost: string (nullable = true)\n",
      " |-- host_thumbnail_url: string (nullable = true)\n",
      " |-- host_picture_url: string (nullable = true)\n",
      " |-- host_neighbourhood: string (nullable = true)\n",
      " |-- host_listings_count: integer (nullable = true)\n",
      " |-- host_total_listings_count: integer (nullable = true)\n",
      " |-- host_verifications: string (nullable = true)\n",
      " |-- host_has_profile_pic: string (nullable = true)\n",
      " |-- host_identity_verified: string (nullable = true)\n",
      " |-- neighbourhood: string (nullable = true)\n",
      " |-- neighbourhood_cleansed: string (nullable = true)\n",
      " |-- neighbourhood_group_cleansed: string (nullable = true)\n",
      " |-- latitude: double (nullable = true)\n",
      " |-- longitude: double (nullable = true)\n",
      " |-- property_type: string (nullable = true)\n",
      " |-- room_type: string (nullable = true)\n",
      " |-- accommodates: integer (nullable = true)\n",
      " |-- bathrooms: double (nullable = true)\n",
      " |-- bathrooms_text: string (nullable = true)\n",
      " |-- bedrooms: integer (nullable = true)\n",
      " |-- beds: integer (nullable = true)\n",
      " |-- amenities: string (nullable = true)\n",
      " |-- price: string (nullable = true)\n",
      " |-- minimum_nights: integer (nullable = true)\n",
      " |-- maximum_nights: integer (nullable = true)\n",
      " |-- minimum_minimum_nights: integer (nullable = true)\n",
      " |-- maximum_minimum_nights: integer (nullable = true)\n",
      " |-- minimum_maximum_nights: integer (nullable = true)\n",
      " |-- maximum_maximum_nights: integer (nullable = true)\n",
      " |-- minimum_nights_avg_ntm: double (nullable = true)\n",
      " |-- maximum_nights_avg_ntm: double (nullable = true)\n",
      " |-- calendar_updated: string (nullable = true)\n",
      " |-- has_availability: string (nullable = true)\n",
      " |-- availability_30: integer (nullable = true)\n",
      " |-- availability_60: integer (nullable = true)\n",
      " |-- availability_90: integer (nullable = true)\n",
      " |-- availability_365: integer (nullable = true)\n",
      " |-- calendar_last_scraped: date (nullable = true)\n",
      " |-- number_of_reviews: integer (nullable = true)\n",
      " |-- number_of_reviews_ltm: integer (nullable = true)\n",
      " |-- number_of_reviews_l30d: integer (nullable = true)\n",
      " |-- first_review: date (nullable = true)\n",
      " |-- last_review: date (nullable = true)\n",
      " |-- review_scores_rating: double (nullable = true)\n",
      " |-- review_scores_accuracy: double (nullable = true)\n",
      " |-- review_scores_cleanliness: double (nullable = true)\n",
      " |-- review_scores_checkin: double (nullable = true)\n",
      " |-- review_scores_communication: double (nullable = true)\n",
      " |-- review_scores_location: double (nullable = true)\n",
      " |-- review_scores_value: double (nullable = true)\n",
      " |-- license: string (nullable = true)\n",
      " |-- instant_bookable: string (nullable = true)\n",
      " |-- calculated_host_listings_count: integer (nullable = true)\n",
      " |-- calculated_host_listings_count_entire_homes: integer (nullable = true)\n",
      " |-- calculated_host_listings_count_private_rooms: integer (nullable = true)\n",
      " |-- calculated_host_listings_count_shared_rooms: integer (nullable = true)\n",
      " |-- reviews_per_month: double (nullable = true)\n",
      "\n"
     ]
    }
   ],
   "execution_count": 24
  },
  {
   "metadata": {
    "ExecuteTime": {
     "end_time": "2025-08-02T19:02:09.361969Z",
     "start_time": "2025-08-02T19:02:08.988417Z"
    }
   },
   "cell_type": "code",
   "source": [
    "# 1. Get a non-null picture URL for any property (\"picture_url\" field)\n",
    "# Select any non-null picture URL\n",
    "listings.filter(\n",
    "    listings.picture_url.isNotNull()\n",
    ") \\\n",
    ".select('picture_url') \\\n",
    ".limit(1) \\\n",
    ".show(truncate=False)"
   ],
   "id": "5dd64a1d0f856a85",
   "outputs": [
    {
     "name": "stdout",
     "output_type": "stream",
     "text": [
      "+------------------------------------------------------------------------------------------------------+\n",
      "|picture_url                                                                                           |\n",
      "+------------------------------------------------------------------------------------------------------+\n",
      "|https://a0.muscache.com/pictures/miso/Hosting-13913/original/d755aa6d-cebb-4464-80be-2722c921e8d5.jpeg|\n",
      "+------------------------------------------------------------------------------------------------------+\n",
      "\n"
     ]
    }
   ],
   "execution_count": 25
  },
  {
   "metadata": {
    "ExecuteTime": {
     "end_time": "2025-08-02T19:02:20.444398Z",
     "start_time": "2025-08-02T19:02:18.665857Z"
    }
   },
   "cell_type": "code",
   "source": [
    "# 2. Get number of properties that get more than 10 reviews per month\n",
    "listings.filter(\n",
    "  listings.reviews_per_month > 10\n",
    ") \\\n",
    ".count()"
   ],
   "id": "8b2e1025f2d83a25",
   "outputs": [
    {
     "name": "stderr",
     "output_type": "stream",
     "text": [
      "                                                                                \r"
     ]
    },
    {
     "data": {
      "text/plain": [
       "66"
      ]
     },
     "execution_count": 26,
     "metadata": {},
     "output_type": "execute_result"
    }
   ],
   "execution_count": 26
  },
  {
   "metadata": {
    "ExecuteTime": {
     "end_time": "2025-08-02T19:02:27.445804Z",
     "start_time": "2025-08-02T19:02:27.285518Z"
    }
   },
   "cell_type": "code",
   "source": [
    "listings.filter(\n",
    "    (listings.bathrooms > listings.bedrooms)\n",
    ") \\\n",
    ".select('name', 'bathrooms', 'bedrooms') \\\n",
    ".show(10, truncate=False)"
   ],
   "id": "7338f951dc57b36d",
   "outputs": [
    {
     "name": "stdout",
     "output_type": "stream",
     "text": [
      "+--------------------------------------------------+---------+--------+\n",
      "|name                                              |bathrooms|bedrooms|\n",
      "+--------------------------------------------------+---------+--------+\n",
      "|Battersea live/work artist house, garden & parking|1.5      |1       |\n",
      "|West London-W7, Hanwell(Area Ealing) Room (Female)|1.5      |1       |\n",
      "|West London,loft ensuite, 5min2tube               |1.5      |1       |\n",
      "|Large Bedroom with EnSuite Bathroom               |1.5      |1       |\n",
      "|Cosy Double studio in Zone 2 Hammersmith (1)      |1.5      |1       |\n",
      "|Shoreditch Loft                                   |1.5      |1       |\n",
      "|Five minute walk to South Bank                    |1.5      |1       |\n",
      "|Designer room Park Views 4 mins zone 1 station    |1.5      |1       |\n",
      "|Cosy Double room London, River View               |1.5      |1       |\n",
      "|Maisonette in Central London Zone 1               |1.5      |1       |\n",
      "+--------------------------------------------------+---------+--------+\n",
      "only showing top 10 rows\n"
     ]
    }
   ],
   "execution_count": 27
  },
  {
   "metadata": {
    "ExecuteTime": {
     "end_time": "2025-08-02T19:02:51.197503Z",
     "start_time": "2025-08-02T19:02:49.436615Z"
    }
   },
   "cell_type": "code",
   "source": [
    "# 4. Get properties where the price is greater than 5,000. Collect the result as a Python list\n",
    "from pyspark.sql.functions import regexp_replace\n",
    "\n",
    "listings_with_price = listings \\\n",
    "  .withColumn('price_numeric', regexp_replace('price', '[$,]', '').cast('float'))\n",
    "\n",
    "res = listings_with_price.filter(\n",
    "    (listings_with_price.price_numeric > 5000)\n",
    ") \\\n",
    ".select('name', 'price') \\\n",
    ".collect()\n",
    "\n",
    "res"
   ],
   "id": "bf1798672e33b46a",
   "outputs": [
    {
     "name": "stderr",
     "output_type": "stream",
     "text": [
      "                                                                                \r"
     ]
    },
    {
     "data": {
      "text/plain": [
       "[Row(name='Bright ,Modern, 12m to Bond street.', price='$5,500.00'),\n",
       " Row(name='Room in a cosy flat. Central, clean', price='$8,000.00'),\n",
       " Row(name='3 Bed Flat in South Hampstead with Large Garden!', price='$25,000.00'),\n",
       " Row(name='Spacious Private Ground Floor Room', price='$7,693.00'),\n",
       " Row(name='No Longer Available', price='$53,588.00'),\n",
       " Row(name='Very nice double room in the heart of Soho', price='$5,100.00'),\n",
       " Row(name='Knightsbridge Penthouse', price='$8,895.00'),\n",
       " Row(name='Luxury 5-star Flat with Art & Tech', price='$6,276.00'),\n",
       " Row(name='The Apartments by The Sloane Club, L 2 Bedroom Apt', price='$7,589.00'),\n",
       " Row(name='The Apartments by The Sloane Club, One Bedroom Apt', price='$7,589.00'),\n",
       " Row(name='Great Apartment next to Sloane Square', price='$6,250.00'),\n",
       " Row(name='Lovely Private double room at zone 2 Holloway Road', price='$5,147.00'),\n",
       " Row(name='Kensington- Luxury 2 bedroom ground floor flat', price='$8,000.00'),\n",
       " Row(name='Single room. 7ft x 9ft - Over looking garden', price='$6,000.00'),\n",
       " Row(name='Close To London Eye (HED)', price='$75,000.00'),\n",
       " Row(name='CLOSE TO LONDON EYE (CHECZ)', price='$75,000.00'),\n",
       " Row(name='Stunning  Renovated Townhouse in Pretty Square', price='$60,000.00'),\n",
       " Row(name='Semi-detached mews house in Knightsbridge.', price='$7,000.00'),\n",
       " Row(name='Beautiful 2 BR flat in Kilburn with free parking', price='$6,000.00'),\n",
       " Row(name='Affordable Spacious  Room on the edge of the city', price='$6,000.00'),\n",
       " Row(name='—', price='$20,000.00'),\n",
       " Row(name='Hyde Park Suite', price='$6,545.00'),\n",
       " Row(name='Serpentine Suite', price='$5,645.00'),\n",
       " Row(name='City Suite', price='$6,245.00'),\n",
       " Row(name='Westminster Suite', price='$5,945.00'),\n",
       " Row(name='The Presidential - 6 bed - stunning elegance', price='$6,000.00'),\n",
       " Row(name='Kensington Penthouse', price='$9,395.00'),\n",
       " Row(name='Mayfair Penthouse', price='$8,895.00'),\n",
       " Row(name='Foxter Properties Chelsea', price='$12,000.00'),\n",
       " Row(name='Close To London Eye', price='$8,000.00'),\n",
       " Row(name='1. V02 Large Apartment; next to Piccadilly Circus!', price='$6,400.00'),\n",
       " Row(name='Prestige Paddington 2 Bed', price='$5,720.00'),\n",
       " Row(name='Room In Zone 1 (TOB)', price='$80,000.00'),\n",
       " Row(name='Villa Almas Mayfair.', price='$5,400.00'),\n",
       " Row(name='𝐕𝐢𝐥𝐥𝐚 𝐄𝐦𝐞𝐫𝐚𝐥𝐝 𝐌𝐞𝐰𝐬', price='$5,364.00'),\n",
       " Row(name='Close To London Bridge', price='$80,000.00'),\n",
       " Row(name='CentralLondon Luxury for 5! 1Min from Paddington', price='$9,680.00'),\n",
       " Row(name='Home Guest', price='$6,033.00'),\n",
       " Row(name='20% Off Monthly Business Relocation Stays Belsize', price='$15,000.00'),\n",
       " Row(name='Ultra Luxe 4 Bed flat in Mayfair', price='$6,000.00'),\n",
       " Row(name='Short Walk To London Eye (SUR)', price='$71,000.00'),\n",
       " Row(name='London luxury.', price='$12,000.00'),\n",
       " Row(name='Short Walk to London Eye (HON)', price='$50,000.00'),\n",
       " Row(name='The Artists House', price='$16,564.00'),\n",
       " Row(name='Luxury Grade II Listed Mansion', price='$9,000.00'),\n",
       " Row(name='best place to be to relax', price='$6,248.00'),\n",
       " Row(name='Modern apartment Central London', price='$9,900.00')]"
      ]
     },
     "execution_count": 28,
     "metadata": {},
     "output_type": "execute_result"
    }
   ],
   "execution_count": 28
  },
  {
   "metadata": {
    "ExecuteTime": {
     "end_time": "2025-08-02T19:03:01.209794Z",
     "start_time": "2025-08-02T19:03:01.009810Z"
    }
   },
   "cell_type": "code",
   "source": [
    "# 5. Get a list of properties with the following characteristics:\n",
    "# * price < 150\n",
    "# * more than 20 reviews\n",
    "# * review_scores_rating > 4.5\n",
    "# Consider using the \"&\" operator\n",
    "\n",
    "listings_with_price.filter(\n",
    "    (listings_with_price.price_numeric < 150) &\n",
    "    (listings_with_price.number_of_reviews > 20) &\n",
    "    (listings_with_price.review_scores_rating > 4.5)\n",
    "  ) \\\n",
    ".select('name', 'price_numeric', 'number_of_reviews', 'review_scores_rating') \\\n",
    ".show(truncate=False)"
   ],
   "id": "c0a87676be048a4d",
   "outputs": [
    {
     "name": "stdout",
     "output_type": "stream",
     "text": [
      "+--------------------------------------------------+-------------+-----------------+--------------------+\n",
      "|name                                              |price_numeric|number_of_reviews|review_scores_rating|\n",
      "+--------------------------------------------------+-------------+-----------------+--------------------+\n",
      "|Holiday London DB Room Let-on going               |59.0         |44               |4.82                |\n",
      "|Bright Chelsea  Apartment. Chelsea!               |120.0        |96               |4.8                 |\n",
      "|Double Room (Unavailable for check in 31Dec-1Jan) |40.0         |38               |4.89                |\n",
      "|A stylish Victorian home in West London           |131.0        |91               |4.85                |\n",
      "|I Bedroom flat Tower of London                    |145.0        |248              |4.9                 |\n",
      "|You are GUARANTEED to love this                   |82.0         |691              |4.86                |\n",
      "|SPACIOUS ROOM IN CONTEMPORARY STYLE FLAT          |55.0         |55               |4.96                |\n",
      "|West London-W7, Hanwell(Area Ealing) Room (Female)|37.0         |117              |4.79                |\n",
      "|West London,loft ensuite, 5min2tube               |69.0         |187              |4.7                 |\n",
      "|A double Room 5mins from King's College Hospital  |55.0         |99               |4.73                |\n",
      "|Charming Flat in Notting Hill                     |94.0         |247              |4.74                |\n",
      "|Room with a view, shared flat,  central  Bankside |86.0         |128              |4.69                |\n",
      "|You Will Save Money Here                          |65.0         |591              |4.89                |\n",
      "|Quiet Comfortable Room in Fulham                  |60.0         |245              |4.72                |\n",
      "|Beautiful 1 bed apt in Queens Park                |130.0        |134              |4.87                |\n",
      "|Pleasant Single Room in zone 1.                   |59.0         |458              |4.81                |\n",
      "|Large Bedroom with EnSuite Bathroom               |68.0         |298              |4.66                |\n",
      "|Cosy Double studio in Zone 2 Hammersmith (6)      |87.0         |170              |4.69                |\n",
      "|Beautiful Small Studio Hammersmith                |85.0         |201              |4.71                |\n",
      "|Cosy Double studio in Zone 2 Hammersmith (1)      |89.0         |136              |4.71                |\n",
      "+--------------------------------------------------+-------------+-----------------+--------------------+\n",
      "only showing top 20 rows\n"
     ]
    }
   ],
   "execution_count": 29
  },
  {
   "metadata": {
    "ExecuteTime": {
     "end_time": "2025-08-02T19:03:24.360825Z",
     "start_time": "2025-08-02T19:03:22.572146Z"
    }
   },
   "cell_type": "code",
   "source": [
    "# 7. Get the highest listing price in this dataset\n",
    "# Consider using the \"max\" function from \"pyspark.sql.functions\"\n",
    "\n",
    "from pyspark.sql.functions import max\n",
    "\n",
    "\n",
    "listings_with_price \\\n",
    "  .select(max('price_numeric')) \\\n",
    "  .show()"
   ],
   "id": "88e4c0b1af6df463",
   "outputs": [
    {
     "name": "stderr",
     "output_type": "stream",
     "text": [
      "[Stage 29:>                                                         (0 + 1) / 1]\r"
     ]
    },
    {
     "name": "stdout",
     "output_type": "stream",
     "text": [
      "+------------------+\n",
      "|max(price_numeric)|\n",
      "+------------------+\n",
      "|           80000.0|\n",
      "+------------------+\n",
      "\n"
     ]
    },
    {
     "name": "stderr",
     "output_type": "stream",
     "text": [
      "                                                                                \r"
     ]
    }
   ],
   "execution_count": 30
  },
  {
   "metadata": {
    "ExecuteTime": {
     "end_time": "2025-08-02T19:04:01.977576Z",
     "start_time": "2025-08-02T19:04:00.377504Z"
    }
   },
   "cell_type": "code",
   "source": [
    "res = listings_with_price \\\n",
    "  .select(max('price_numeric').alias('max_price')) \\\n",
    "  .collect()\n",
    "\n",
    "\n",
    "max_price = res[0]['max_price']\n",
    "max_price"
   ],
   "id": "e1fb19394c9b70a1",
   "outputs": [
    {
     "name": "stderr",
     "output_type": "stream",
     "text": [
      "                                                                                \r"
     ]
    },
    {
     "data": {
      "text/plain": [
       "80000.0"
      ]
     },
     "execution_count": 31,
     "metadata": {},
     "output_type": "execute_result"
    }
   ],
   "execution_count": 31
  },
  {
   "metadata": {
    "ExecuteTime": {
     "end_time": "2025-08-02T19:04:23.891396Z",
     "start_time": "2025-08-02T19:04:23.607239Z"
    }
   },
   "cell_type": "code",
   "source": [
    "from pyspark.sql.functions import year\n",
    "\n",
    "listings.filter(\n",
    "    year(listings.first_review) == 2024\n",
    ") \\\n",
    ".select('name', 'first_review') \\\n",
    ".show(10, truncate=False)"
   ],
   "id": "a208151dca6e53b4",
   "outputs": [
    {
     "name": "stdout",
     "output_type": "stream",
     "text": [
      "+--------------------------------------------------+------------+\n",
      "|name                                              |first_review|\n",
      "+--------------------------------------------------+------------+\n",
      "|Close to Wimbledon All England Tennis -huge double|2024-08-11  |\n",
      "|one Double bed room with en-suite facilities      |2024-03-21  |\n",
      "|Double Room for one -Herne Hill Zone 2/3Thameslink|2024-05-26  |\n",
      "|Apartment in Southwark - Private living room      |2024-07-09  |\n",
      "|Sm double room  with own bathroom                 |2024-06-04  |\n",
      "|Superlux flat in Knightsbridge                    |2024-01-01  |\n",
      "|Luxurious Flat in South Kensington                |2024-06-19  |\n",
      "|The Pink House, Notting Hill                      |2024-07-14  |\n",
      "|Superior Single Room (En-suite)                   |2024-06-21  |\n",
      "|Charming flat in Tufnell Park                     |2024-04-28  |\n",
      "+--------------------------------------------------+------------+\n",
      "only showing top 10 rows\n"
     ]
    }
   ],
   "execution_count": 32
  },
  {
   "metadata": {
    "ExecuteTime": {
     "end_time": "2025-08-02T19:04:33.659130Z",
     "start_time": "2025-08-02T19:04:33.655298Z"
    }
   },
   "cell_type": "code",
   "source": "listings.printSchema()",
   "id": "b155f19c0615cfb8",
   "outputs": [
    {
     "name": "stdout",
     "output_type": "stream",
     "text": [
      "root\n",
      " |-- id: long (nullable = true)\n",
      " |-- listing_url: string (nullable = true)\n",
      " |-- scrape_id: long (nullable = true)\n",
      " |-- last_scraped: date (nullable = true)\n",
      " |-- source: string (nullable = true)\n",
      " |-- name: string (nullable = true)\n",
      " |-- description: string (nullable = true)\n",
      " |-- neighborhood_overview: string (nullable = true)\n",
      " |-- picture_url: string (nullable = true)\n",
      " |-- host_id: integer (nullable = true)\n",
      " |-- host_url: string (nullable = true)\n",
      " |-- host_name: string (nullable = true)\n",
      " |-- host_since: date (nullable = true)\n",
      " |-- host_location: string (nullable = true)\n",
      " |-- host_about: string (nullable = true)\n",
      " |-- host_response_time: string (nullable = true)\n",
      " |-- host_response_rate: string (nullable = true)\n",
      " |-- host_acceptance_rate: string (nullable = true)\n",
      " |-- host_is_superhost: string (nullable = true)\n",
      " |-- host_thumbnail_url: string (nullable = true)\n",
      " |-- host_picture_url: string (nullable = true)\n",
      " |-- host_neighbourhood: string (nullable = true)\n",
      " |-- host_listings_count: integer (nullable = true)\n",
      " |-- host_total_listings_count: integer (nullable = true)\n",
      " |-- host_verifications: string (nullable = true)\n",
      " |-- host_has_profile_pic: string (nullable = true)\n",
      " |-- host_identity_verified: string (nullable = true)\n",
      " |-- neighbourhood: string (nullable = true)\n",
      " |-- neighbourhood_cleansed: string (nullable = true)\n",
      " |-- neighbourhood_group_cleansed: string (nullable = true)\n",
      " |-- latitude: double (nullable = true)\n",
      " |-- longitude: double (nullable = true)\n",
      " |-- property_type: string (nullable = true)\n",
      " |-- room_type: string (nullable = true)\n",
      " |-- accommodates: integer (nullable = true)\n",
      " |-- bathrooms: double (nullable = true)\n",
      " |-- bathrooms_text: string (nullable = true)\n",
      " |-- bedrooms: integer (nullable = true)\n",
      " |-- beds: integer (nullable = true)\n",
      " |-- amenities: string (nullable = true)\n",
      " |-- price: string (nullable = true)\n",
      " |-- minimum_nights: integer (nullable = true)\n",
      " |-- maximum_nights: integer (nullable = true)\n",
      " |-- minimum_minimum_nights: integer (nullable = true)\n",
      " |-- maximum_minimum_nights: integer (nullable = true)\n",
      " |-- minimum_maximum_nights: integer (nullable = true)\n",
      " |-- maximum_maximum_nights: integer (nullable = true)\n",
      " |-- minimum_nights_avg_ntm: double (nullable = true)\n",
      " |-- maximum_nights_avg_ntm: double (nullable = true)\n",
      " |-- calendar_updated: string (nullable = true)\n",
      " |-- has_availability: string (nullable = true)\n",
      " |-- availability_30: integer (nullable = true)\n",
      " |-- availability_60: integer (nullable = true)\n",
      " |-- availability_90: integer (nullable = true)\n",
      " |-- availability_365: integer (nullable = true)\n",
      " |-- calendar_last_scraped: date (nullable = true)\n",
      " |-- number_of_reviews: integer (nullable = true)\n",
      " |-- number_of_reviews_ltm: integer (nullable = true)\n",
      " |-- number_of_reviews_l30d: integer (nullable = true)\n",
      " |-- first_review: date (nullable = true)\n",
      " |-- last_review: date (nullable = true)\n",
      " |-- review_scores_rating: double (nullable = true)\n",
      " |-- review_scores_accuracy: double (nullable = true)\n",
      " |-- review_scores_cleanliness: double (nullable = true)\n",
      " |-- review_scores_checkin: double (nullable = true)\n",
      " |-- review_scores_communication: double (nullable = true)\n",
      " |-- review_scores_location: double (nullable = true)\n",
      " |-- review_scores_value: double (nullable = true)\n",
      " |-- license: string (nullable = true)\n",
      " |-- instant_bookable: string (nullable = true)\n",
      " |-- calculated_host_listings_count: integer (nullable = true)\n",
      " |-- calculated_host_listings_count_entire_homes: integer (nullable = true)\n",
      " |-- calculated_host_listings_count_private_rooms: integer (nullable = true)\n",
      " |-- calculated_host_listings_count_shared_rooms: integer (nullable = true)\n",
      " |-- reviews_per_month: double (nullable = true)\n",
      "\n"
     ]
    }
   ],
   "execution_count": 33
  },
  {
   "metadata": {
    "ExecuteTime": {
     "end_time": "2025-08-02T19:05:36.058036Z",
     "start_time": "2025-08-02T19:05:35.929335Z"
    }
   },
   "cell_type": "code",
   "source": "listings.select('first_review').show(10, truncate=False)",
   "id": "57d7939d231323b6",
   "outputs": [
    {
     "name": "stdout",
     "output_type": "stream",
     "text": [
      "+------------+\n",
      "|first_review|\n",
      "+------------+\n",
      "|2010-08-18  |\n",
      "|2009-12-21  |\n",
      "|2011-03-21  |\n",
      "|2010-11-15  |\n",
      "|2010-10-16  |\n",
      "|2013-07-06  |\n",
      "|2012-01-04  |\n",
      "|2011-07-03  |\n",
      "|NULL        |\n",
      "|2011-08-29  |\n",
      "+------------+\n",
      "only showing top 10 rows\n"
     ]
    }
   ],
   "execution_count": 34
  },
  {
   "metadata": {
    "ExecuteTime": {
     "end_time": "2025-08-02T19:21:22.621571Z",
     "start_time": "2025-08-02T19:21:19.590589Z"
    }
   },
   "cell_type": "code",
   "source": [
    "listings \\\n",
    "  .groupby(listings.property_type) \\\n",
    "  .count() \\\n",
    "  .show(truncate=False)"
   ],
   "id": "72039b8356e88ce1",
   "outputs": [
    {
     "name": "stderr",
     "output_type": "stream",
     "text": [
      "[Stage 37:>                                                         (0 + 1) / 1]\r"
     ]
    },
    {
     "name": "stdout",
     "output_type": "stream",
     "text": [
      "+----------------------------------+-----+\n",
      "|property_type                     |count|\n",
      "+----------------------------------+-----+\n",
      "|Private room in lighthouse        |2    |\n",
      "|Private room in loft              |171  |\n",
      "|Private room in earthen home      |3    |\n",
      "|Entire chalet                     |4    |\n",
      "|Earthen home                      |2    |\n",
      "|Shared room in bus                |1    |\n",
      "|Farm stay                         |4    |\n",
      "|Entire rental unit                |39372|\n",
      "|Shared room in hostel             |59   |\n",
      "|Shared room                       |4    |\n",
      "|Private room in condo             |3515 |\n",
      "|Room in boutique hotel            |239  |\n",
      "|Private room in religious building|4    |\n",
      "|Room in bed and breakfast         |24   |\n",
      "|Private room in casa particular   |86   |\n",
      "|Entire guesthouse                 |228  |\n",
      "|Private room in bungalow          |64   |\n",
      "|Entire cabin                      |39   |\n",
      "|Hut                               |2    |\n",
      "|Private room in nature lodge      |2    |\n",
      "+----------------------------------+-----+\n",
      "only showing top 20 rows\n"
     ]
    },
    {
     "name": "stderr",
     "output_type": "stream",
     "text": [
      "                                                                                \r"
     ]
    }
   ],
   "execution_count": 35
  },
  {
   "metadata": {
    "ExecuteTime": {
     "end_time": "2025-08-02T19:22:14.512949Z",
     "start_time": "2025-08-02T19:22:12.525547Z"
    }
   },
   "cell_type": "code",
   "source": [
    "import pyspark.sql.functions as F\n",
    "\n",
    "listings \\\n",
    "  .groupby(listings.property_type) \\\n",
    "  .agg(\n",
    "    F.count('property_type').alias('count')\n",
    "  ) \\\n",
    "  .orderBy('count', ascending=[False]) \\\n",
    "  .show(truncate=False)"
   ],
   "id": "69d5efa7699477e6",
   "outputs": [
    {
     "name": "stderr",
     "output_type": "stream",
     "text": [
      "[Stage 40:>                                                         (0 + 1) / 1]\r"
     ]
    },
    {
     "name": "stdout",
     "output_type": "stream",
     "text": [
      "+----------------------------------+-----+\n",
      "|property_type                     |count|\n",
      "+----------------------------------+-----+\n",
      "|Entire rental unit                |39372|\n",
      "|Private room in rental unit       |14837|\n",
      "|Private room in home              |11835|\n",
      "|Entire condo                      |8800 |\n",
      "|Entire home                       |8756 |\n",
      "|Private room in condo             |3515 |\n",
      "|Entire serviced apartment         |1852 |\n",
      "|Private room in townhouse         |1294 |\n",
      "|Entire townhouse                  |1123 |\n",
      "|Room in hotel                     |783  |\n",
      "|Private room in bed and breakfast |486  |\n",
      "|Entire loft                       |367  |\n",
      "|Private room in guesthouse        |316  |\n",
      "|Room in boutique hotel            |239  |\n",
      "|Entire guesthouse                 |228  |\n",
      "|Shared room in rental unit        |191  |\n",
      "|Entire guest suite                |181  |\n",
      "|Private room in guest suite       |178  |\n",
      "|Private room in loft              |171  |\n",
      "|Private room in serviced apartment|144  |\n",
      "+----------------------------------+-----+\n",
      "only showing top 20 rows\n"
     ]
    },
    {
     "name": "stderr",
     "output_type": "stream",
     "text": [
      "                                                                                \r"
     ]
    }
   ],
   "execution_count": 36
  },
  {
   "metadata": {
    "ExecuteTime": {
     "end_time": "2025-08-02T19:23:05.964264Z",
     "start_time": "2025-08-02T19:23:04.086919Z"
    }
   },
   "cell_type": "code",
   "source": [
    "listings \\\n",
    "  .groupby(listings.property_type) \\\n",
    "  .agg(\n",
    "    F.count('property_type').alias('count'),\n",
    "    F.avg('review_scores_location')\n",
    "  ) \\\n",
    "  .orderBy('count', ascending=[False]) \\\n",
    "  .show(truncate=False)"
   ],
   "id": "659e5ddf3ad8aeff",
   "outputs": [
    {
     "name": "stderr",
     "output_type": "stream",
     "text": [
      "[Stage 43:>                                                         (0 + 1) / 1]\r"
     ]
    },
    {
     "name": "stdout",
     "output_type": "stream",
     "text": [
      "+----------------------------------+-----+---------------------------+\n",
      "|property_type                     |count|avg(review_scores_location)|\n",
      "+----------------------------------+-----+---------------------------+\n",
      "|Entire rental unit                |39372|4.72794867465818           |\n",
      "|Private room in rental unit       |14837|4.732797964376552          |\n",
      "|Private room in home              |11835|4.6990531037827195         |\n",
      "|Entire condo                      |8800 |4.763906656266228          |\n",
      "|Entire home                       |8756 |4.722269211782102          |\n",
      "|Private room in condo             |3515 |4.7656638325703            |\n",
      "|Entire serviced apartment         |1852 |4.7218975332068345         |\n",
      "|Private room in townhouse         |1294 |4.75918656056587           |\n",
      "|Entire townhouse                  |1123 |4.812793814432991          |\n",
      "|Room in hotel                     |783  |4.649164619164618          |\n",
      "|Private room in bed and breakfast |486  |4.7173976608187145         |\n",
      "|Entire loft                       |367  |4.798854489164088          |\n",
      "|Private room in guesthouse        |316  |4.62233606557377           |\n",
      "|Room in boutique hotel            |239  |4.7095652173913045         |\n",
      "|Entire guesthouse                 |228  |4.703333333333332          |\n",
      "|Shared room in rental unit        |191  |4.690833333333334          |\n",
      "|Entire guest suite                |181  |4.746829268292678          |\n",
      "|Private room in guest suite       |178  |4.782962962962964          |\n",
      "|Private room in loft              |171  |4.7570802919708015         |\n",
      "|Private room in serviced apartment|144  |4.613510638297872          |\n",
      "+----------------------------------+-----+---------------------------+\n",
      "only showing top 20 rows\n"
     ]
    },
    {
     "name": "stderr",
     "output_type": "stream",
     "text": [
      "                                                                                \r"
     ]
    }
   ],
   "execution_count": 37
  },
  {
   "metadata": {
    "ExecuteTime": {
     "end_time": "2025-08-02T19:23:47.857384Z",
     "start_time": "2025-08-02T19:23:42.072089Z"
    }
   },
   "cell_type": "code",
   "source": [
    "reviews = spark.read.csv(\"data/reviews.csv.gz\",\n",
    "    header=True,\n",
    "    inferSchema=True,\n",
    "    sep=\",\",\n",
    "    quote='\"',\n",
    "    escape='\"',\n",
    "    multiLine=True,\n",
    "    mode=\"PERMISSIVE\"\n",
    ")"
   ],
   "id": "c53ff23ca7d2fed3",
   "outputs": [
    {
     "name": "stderr",
     "output_type": "stream",
     "text": [
      "                                                                                \r"
     ]
    }
   ],
   "execution_count": 38
  },
  {
   "metadata": {
    "ExecuteTime": {
     "end_time": "2025-08-02T19:24:25.151923Z",
     "start_time": "2025-08-02T19:24:25.096721Z"
    }
   },
   "cell_type": "code",
   "source": [
    "listings_reviews = listings.join(\n",
    "    reviews, listings.id == reviews.listing_id, how='inner'\n",
    ")"
   ],
   "id": "1a472a68351ed200",
   "outputs": [],
   "execution_count": 39
  },
  {
   "metadata": {
    "ExecuteTime": {
     "end_time": "2025-08-02T19:26:15.073882Z",
     "start_time": "2025-08-02T19:26:02.996397Z"
    }
   },
   "cell_type": "code",
   "source": [
    "reviews_per_listing = listings_reviews \\\n",
    "  .groupBy(listings.id, listings.name) \\\n",
    "  .agg(\n",
    "    F.count(reviews.id).alias('num_reviews')\n",
    "  ) \\\n",
    "  .orderBy('num_reviews', ascending=False) \\\n",
    "  .show(truncate=False)\n"
   ],
   "id": "92502607081ab78b",
   "outputs": [
    {
     "name": "stderr",
     "output_type": "stream",
     "text": [
      "[Stage 49:>                                                         (0 + 1) / 1]\r"
     ]
    },
    {
     "name": "stdout",
     "output_type": "stream",
     "text": [
      "+--------+--------------------------------------------------+-----------+\n",
      "|id      |name                                              |num_reviews|\n",
      "+--------+--------------------------------------------------+-----------+\n",
      "|30760930|Double Garden View room - London House Hotel***   |1682       |\n",
      "|47408549|Double Room+ Ensuite                              |1650       |\n",
      "|43120947|Private double room with en suite facilities      |1553       |\n",
      "|19670926|Designer Studio Apartment in Central London       |1382       |\n",
      "|1436172 |Cosy Double in Kings Cross Houseshare nr Eurostar |1134       |\n",
      "|45006692|Budget Double Room In Colliers Hotel.             |1132       |\n",
      "|2126708 |London's best transport hub 5 mins walk! Safe too!|1071       |\n",
      "|1436177 |En-suite Double in Kings Cross Houseshare Eurostar|943        |\n",
      "|3855375 |Double in Kings Cross Houseshare nr Eurostar      |935        |\n",
      "|2659707 |Large Room + Private Bathroom, E3.                |893        |\n",
      "|42081759|Micro Studio at Locke at Broken Wharf             |880        |\n",
      "|46233904|Superior Studio, avg size 23.5 msq                |879        |\n",
      "|47438714|KX Basic- Small Double- shared bathroom           |877        |\n",
      "|4748665 |Single bedroom near London Stratford              |868        |\n",
      "|14518189|Cellar room with Shared Bathroom & Toilet         |866        |\n",
      "|5266466 |Large London Room, Private Bathroom & Breakfast   |831        |\n",
      "|27833488|S - Heathrow Airport Terminal 2 3 4 5 Hatton Cross|793        |\n",
      "|2025844 |No PARTYING. Family Friendly Central London Flat  |790        |\n",
      "|4332039 |Single bedroom in old East London                 |764        |\n",
      "|5869526 |Beautiful studio loft room ensuite                |749        |\n",
      "+--------+--------------------------------------------------+-----------+\n",
      "only showing top 20 rows\n"
     ]
    },
    {
     "name": "stderr",
     "output_type": "stream",
     "text": [
      "                                                                                \r"
     ]
    }
   ],
   "execution_count": 42
  },
  {
   "metadata": {},
   "cell_type": "code",
   "outputs": [],
   "execution_count": null,
   "source": "",
   "id": "bc338c198522d629"
  }
 ],
 "metadata": {
  "kernelspec": {
   "display_name": "Python 3",
   "language": "python",
   "name": "python3"
  },
  "language_info": {
   "codemirror_mode": {
    "name": "ipython",
    "version": 2
   },
   "file_extension": ".py",
   "mimetype": "text/x-python",
   "name": "python",
   "nbconvert_exporter": "python",
   "pygments_lexer": "ipython2",
   "version": "2.7.6"
  }
 },
 "nbformat": 4,
 "nbformat_minor": 5
}
