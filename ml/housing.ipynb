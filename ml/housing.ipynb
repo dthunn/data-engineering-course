{
 "cells": [
  {
   "cell_type": "code",
   "id": "initial_id",
   "metadata": {
    "collapsed": true,
    "ExecuteTime": {
     "end_time": "2025-08-04T18:43:01.949758Z",
     "start_time": "2025-08-04T18:42:55.769831Z"
    }
   },
   "source": [
    "from pyspark.sql import SparkSession\n",
    "\n",
    "\n",
    "spark = SparkSession.builder \\\n",
    "  .appName(\"Predicting housing prices\") \\\n",
    "  .getOrCreate()"
   ],
   "outputs": [
    {
     "name": "stderr",
     "output_type": "stream",
     "text": [
      "WARNING: Using incubator modules: jdk.incubator.vector\n",
      "Using Spark's default log4j profile: org/apache/spark/log4j2-defaults.properties\n",
      "25/08/04 12:42:57 WARN Utils: Your hostname, Dylans-MacBook-Pro.local, resolves to a loopback address: 127.0.0.1; using 10.20.42.250 instead (on interface en0)\n",
      "25/08/04 12:42:57 WARN Utils: Set SPARK_LOCAL_IP if you need to bind to another address\n",
      "Using Spark's default log4j profile: org/apache/spark/log4j2-defaults.properties\n",
      "Setting default log level to \"WARN\".\n",
      "To adjust logging level use sc.setLogLevel(newLevel). For SparkR, use setLogLevel(newLevel).\n",
      "25/08/04 12:42:58 WARN NativeCodeLoader: Unable to load native-hadoop library for your platform... using builtin-java classes where applicable\n"
     ]
    }
   ],
   "execution_count": 1
  },
  {
   "metadata": {
    "ExecuteTime": {
     "end_time": "2025-08-04T18:43:10.989491Z",
     "start_time": "2025-08-04T18:43:07.827237Z"
    }
   },
   "cell_type": "code",
   "source": [
    "data = spark.read.csv(\"data/housing.csv\", header=True, inferSchema=True)\n",
    "\n",
    "data.printSchema()"
   ],
   "id": "5523d1d4e156c065",
   "outputs": [
    {
     "name": "stdout",
     "output_type": "stream",
     "text": [
      "root\n",
      " |-- longitude: double (nullable = true)\n",
      " |-- latitude: double (nullable = true)\n",
      " |-- housing_median_age: double (nullable = true)\n",
      " |-- total_rooms: double (nullable = true)\n",
      " |-- total_bedrooms: double (nullable = true)\n",
      " |-- population: double (nullable = true)\n",
      " |-- households: double (nullable = true)\n",
      " |-- median_income: double (nullable = true)\n",
      " |-- median_house_value: double (nullable = true)\n",
      " |-- ocean_proximity: string (nullable = true)\n",
      "\n"
     ]
    }
   ],
   "execution_count": 2
  },
  {
   "metadata": {
    "ExecuteTime": {
     "end_time": "2025-08-04T18:43:42.839145Z",
     "start_time": "2025-08-04T18:43:42.161027Z"
    }
   },
   "cell_type": "code",
   "source": "data.count()",
   "id": "412dc9324e76480e",
   "outputs": [
    {
     "data": {
      "text/plain": [
       "20640"
      ]
     },
     "execution_count": 3,
     "metadata": {},
     "output_type": "execute_result"
    }
   ],
   "execution_count": 3
  },
  {
   "metadata": {
    "ExecuteTime": {
     "end_time": "2025-08-04T18:44:33.454002Z",
     "start_time": "2025-08-04T18:44:33.102968Z"
    }
   },
   "cell_type": "code",
   "source": [
    "import pyspark.sql.functions as F\n",
    "\n",
    "\n",
    "data \\\n",
    "  .select(F.count(F.when(F.col('ocean_proximity').isNull(), 1)).alias('ocean_proximity')) \\\n",
    "  .show()"
   ],
   "id": "76f4e822a6c476fc",
   "outputs": [
    {
     "name": "stdout",
     "output_type": "stream",
     "text": [
      "+---------------+\n",
      "|ocean_proximity|\n",
      "+---------------+\n",
      "|              0|\n",
      "+---------------+\n",
      "\n"
     ]
    }
   ],
   "execution_count": 4
  },
  {
   "metadata": {
    "ExecuteTime": {
     "end_time": "2025-08-04T18:48:59.277639Z",
     "start_time": "2025-08-04T18:48:58.499725Z"
    }
   },
   "cell_type": "code",
   "source": [
    "data \\\n",
    "  .select([F.count(F.when(F.col(c).isNull(), 1)).alias(c) for c in data.columns]) \\\n",
    "  .show()"
   ],
   "id": "eec48951a9362bdd",
   "outputs": [
    {
     "name": "stdout",
     "output_type": "stream",
     "text": [
      "+---------+--------+------------------+-----------+--------------+----------+----------+-------------+------------------+---------------+\n",
      "|longitude|latitude|housing_median_age|total_rooms|total_bedrooms|population|households|median_income|median_house_value|ocean_proximity|\n",
      "+---------+--------+------------------+-----------+--------------+----------+----------+-------------+------------------+---------------+\n",
      "|        0|       0|                 0|          0|           207|         0|         0|            0|                 0|              0|\n",
      "+---------+--------+------------------+-----------+--------------+----------+----------+-------------+------------------+---------------+\n",
      "\n"
     ]
    }
   ],
   "execution_count": 5
  },
  {
   "metadata": {
    "ExecuteTime": {
     "end_time": "2025-08-04T18:50:37.820383Z",
     "start_time": "2025-08-04T18:50:37.539564Z"
    }
   },
   "cell_type": "code",
   "source": [
    "filtered_data = data.dropna(subset=['total_bedrooms'])\n",
    "filtered_data.count()"
   ],
   "id": "19408703b02a0058",
   "outputs": [
    {
     "data": {
      "text/plain": [
       "20433"
      ]
     },
     "execution_count": 6,
     "metadata": {},
     "output_type": "execute_result"
    }
   ],
   "execution_count": 6
  },
  {
   "metadata": {
    "ExecuteTime": {
     "end_time": "2025-08-04T18:52:52.635013Z",
     "start_time": "2025-08-04T18:52:52.080765Z"
    }
   },
   "cell_type": "code",
   "source": [
    "from pyspark.ml.feature import VectorAssembler\n",
    "\n",
    "\n",
    "feature_columns = ['housing_median_age', 'total_rooms', 'total_bedrooms',\n",
    "                   'population', 'households', 'median_income']\n",
    "assembler = VectorAssembler(inputCols=feature_columns, outputCol='features')\n",
    "\n",
    "transformed_data = assembler.transform(filtered_data)\n",
    "transformed_data.show()"
   ],
   "id": "ecd6ad159d1f6278",
   "outputs": [
    {
     "name": "stdout",
     "output_type": "stream",
     "text": [
      "+---------+--------+------------------+-----------+--------------+----------+----------+-------------+------------------+---------------+--------------------+\n",
      "|longitude|latitude|housing_median_age|total_rooms|total_bedrooms|population|households|median_income|median_house_value|ocean_proximity|            features|\n",
      "+---------+--------+------------------+-----------+--------------+----------+----------+-------------+------------------+---------------+--------------------+\n",
      "|  -122.23|   37.88|              41.0|      880.0|         129.0|     322.0|     126.0|       8.3252|          452600.0|       NEAR BAY|[41.0,880.0,129.0...|\n",
      "|  -122.22|   37.86|              21.0|     7099.0|        1106.0|    2401.0|    1138.0|       8.3014|          358500.0|       NEAR BAY|[21.0,7099.0,1106...|\n",
      "|  -122.24|   37.85|              52.0|     1467.0|         190.0|     496.0|     177.0|       7.2574|          352100.0|       NEAR BAY|[52.0,1467.0,190....|\n",
      "|  -122.25|   37.85|              52.0|     1274.0|         235.0|     558.0|     219.0|       5.6431|          341300.0|       NEAR BAY|[52.0,1274.0,235....|\n",
      "|  -122.25|   37.85|              52.0|     1627.0|         280.0|     565.0|     259.0|       3.8462|          342200.0|       NEAR BAY|[52.0,1627.0,280....|\n",
      "|  -122.25|   37.85|              52.0|      919.0|         213.0|     413.0|     193.0|       4.0368|          269700.0|       NEAR BAY|[52.0,919.0,213.0...|\n",
      "|  -122.25|   37.84|              52.0|     2535.0|         489.0|    1094.0|     514.0|       3.6591|          299200.0|       NEAR BAY|[52.0,2535.0,489....|\n",
      "|  -122.25|   37.84|              52.0|     3104.0|         687.0|    1157.0|     647.0|         3.12|          241400.0|       NEAR BAY|[52.0,3104.0,687....|\n",
      "|  -122.26|   37.84|              42.0|     2555.0|         665.0|    1206.0|     595.0|       2.0804|          226700.0|       NEAR BAY|[42.0,2555.0,665....|\n",
      "|  -122.25|   37.84|              52.0|     3549.0|         707.0|    1551.0|     714.0|       3.6912|          261100.0|       NEAR BAY|[52.0,3549.0,707....|\n",
      "|  -122.26|   37.85|              52.0|     2202.0|         434.0|     910.0|     402.0|       3.2031|          281500.0|       NEAR BAY|[52.0,2202.0,434....|\n",
      "|  -122.26|   37.85|              52.0|     3503.0|         752.0|    1504.0|     734.0|       3.2705|          241800.0|       NEAR BAY|[52.0,3503.0,752....|\n",
      "|  -122.26|   37.85|              52.0|     2491.0|         474.0|    1098.0|     468.0|        3.075|          213500.0|       NEAR BAY|[52.0,2491.0,474....|\n",
      "|  -122.26|   37.84|              52.0|      696.0|         191.0|     345.0|     174.0|       2.6736|          191300.0|       NEAR BAY|[52.0,696.0,191.0...|\n",
      "|  -122.26|   37.85|              52.0|     2643.0|         626.0|    1212.0|     620.0|       1.9167|          159200.0|       NEAR BAY|[52.0,2643.0,626....|\n",
      "|  -122.26|   37.85|              50.0|     1120.0|         283.0|     697.0|     264.0|        2.125|          140000.0|       NEAR BAY|[50.0,1120.0,283....|\n",
      "|  -122.27|   37.85|              52.0|     1966.0|         347.0|     793.0|     331.0|        2.775|          152500.0|       NEAR BAY|[52.0,1966.0,347....|\n",
      "|  -122.27|   37.85|              52.0|     1228.0|         293.0|     648.0|     303.0|       2.1202|          155500.0|       NEAR BAY|[52.0,1228.0,293....|\n",
      "|  -122.26|   37.84|              50.0|     2239.0|         455.0|     990.0|     419.0|       1.9911|          158700.0|       NEAR BAY|[50.0,2239.0,455....|\n",
      "|  -122.27|   37.84|              52.0|     1503.0|         298.0|     690.0|     275.0|       2.6033|          162900.0|       NEAR BAY|[52.0,1503.0,298....|\n",
      "+---------+--------+------------------+-----------+--------------+----------+----------+-------------+------------------+---------------+--------------------+\n",
      "only showing top 20 rows\n"
     ]
    }
   ],
   "execution_count": 7
  },
  {
   "metadata": {
    "ExecuteTime": {
     "end_time": "2025-08-04T18:54:14.211343Z",
     "start_time": "2025-08-04T18:54:12.860513Z"
    }
   },
   "cell_type": "code",
   "source": [
    "from pyspark.ml.regression import LinearRegression\n",
    "\n",
    "lr = LinearRegression(featuresCol='features', labelCol='median_house_value')\n",
    "model = lr.fit(transformed_data)"
   ],
   "id": "cce2394431ebfc96",
   "outputs": [
    {
     "name": "stderr",
     "output_type": "stream",
     "text": [
      "25/08/04 12:54:13 WARN Instrumentation: [f1bb253b] regParam is zero, which might cause numerical instability and overfitting.\n",
      "25/08/04 12:54:13 WARN InstanceBuilder: Failed to load implementation from:dev.ludovic.netlib.blas.JNIBLAS\n",
      "25/08/04 12:54:13 WARN InstanceBuilder: Failed to load implementation from:dev.ludovic.netlib.lapack.JNILAPACK\n"
     ]
    }
   ],
   "execution_count": 8
  },
  {
   "metadata": {
    "ExecuteTime": {
     "end_time": "2025-08-04T18:54:33.541575Z",
     "start_time": "2025-08-04T18:54:33.434911Z"
    }
   },
   "cell_type": "code",
   "source": [
    "single_record = [{\n",
    "    'housing_median_age': 41.0,\n",
    "    'total_rooms': 880.0,\n",
    "    'total_bedrooms': 129.0,\n",
    "    'population': 322.0,\n",
    "    'households': 126.0,\n",
    "    'median_income': 8.3252\n",
    "}]\n",
    "\n",
    "single_record_df = spark.createDataFrame(single_record)"
   ],
   "id": "2eeb8663ff88fd78",
   "outputs": [],
   "execution_count": 9
  },
  {
   "metadata": {
    "ExecuteTime": {
     "end_time": "2025-08-04T18:54:38.978144Z",
     "start_time": "2025-08-04T18:54:36.243751Z"
    }
   },
   "cell_type": "code",
   "source": [
    "new_data = assembler.transform(single_record_df)\n",
    "new_data.show()"
   ],
   "id": "9bc2284757291933",
   "outputs": [
    {
     "name": "stderr",
     "output_type": "stream",
     "text": [
      "                                                                                \r"
     ]
    },
    {
     "name": "stdout",
     "output_type": "stream",
     "text": [
      "+----------+------------------+-------------+----------+--------------+-----------+--------------------+\n",
      "|households|housing_median_age|median_income|population|total_bedrooms|total_rooms|            features|\n",
      "+----------+------------------+-------------+----------+--------------+-----------+--------------------+\n",
      "|     126.0|              41.0|       8.3252|     322.0|         129.0|      880.0|[41.0,880.0,129.0...|\n",
      "+----------+------------------+-------------+----------+--------------+-----------+--------------------+\n",
      "\n"
     ]
    }
   ],
   "execution_count": 10
  },
  {
   "metadata": {
    "ExecuteTime": {
     "end_time": "2025-08-04T18:55:34.909411Z",
     "start_time": "2025-08-04T18:55:34.096210Z"
    }
   },
   "cell_type": "code",
   "source": "model.transform(new_data).show()",
   "id": "3073c828f55a7e42",
   "outputs": [
    {
     "name": "stdout",
     "output_type": "stream",
     "text": [
      "+----------+------------------+-------------+----------+--------------+-----------+--------------------+------------------+\n",
      "|households|housing_median_age|median_income|population|total_bedrooms|total_rooms|            features|        prediction|\n",
      "+----------+------------------+-------------+----------+--------------+-----------+--------------------+------------------+\n",
      "|     126.0|              41.0|       8.3252|     322.0|         129.0|      880.0|[41.0,880.0,129.0...|428551.23479640554|\n",
      "+----------+------------------+-------------+----------+--------------+-----------+--------------------+------------------+\n",
      "\n"
     ]
    }
   ],
   "execution_count": 11
  },
  {
   "metadata": {},
   "cell_type": "code",
   "outputs": [],
   "execution_count": null,
   "source": "",
   "id": "21dfbfb1929df100"
  }
 ],
 "metadata": {
  "kernelspec": {
   "display_name": "Python 3",
   "language": "python",
   "name": "python3"
  },
  "language_info": {
   "codemirror_mode": {
    "name": "ipython",
    "version": 2
   },
   "file_extension": ".py",
   "mimetype": "text/x-python",
   "name": "python",
   "nbconvert_exporter": "python",
   "pygments_lexer": "ipython2",
   "version": "2.7.6"
  }
 },
 "nbformat": 4,
 "nbformat_minor": 5
}
